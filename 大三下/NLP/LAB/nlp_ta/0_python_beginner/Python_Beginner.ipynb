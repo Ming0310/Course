{
 "cells": [
  {
   "cell_type": "markdown",
   "metadata": {
    "slideshow": {
     "slide_type": "slide"
    }
   },
   "source": [
    "# Learning Python Step by Step\n",
    "**Harbin Institute of Technology (Shenzhen)**\n",
    "\n",
    "<img src=\"HLT_logo.png\" width=\"30%\" align=\"left\">"
   ]
  },
  {
   "cell_type": "markdown",
   "metadata": {
    "slideshow": {
     "slide_type": "slide"
    }
   },
   "source": [
    "## 0. prerequisite\n",
    " * Python 2 or Python 3 ? : Python 3 , of course. Default latest.\n",
    " * Which IDE (Integrated Development Environment)? : **Jupyter Notebook** ! \n",
    " * How to Install Python ? : Install **Anaconda** .\n",
    " * When I'm confused to some function or usage : use \"?\" or .."
   ]
  },
  {
   "cell_type": "code",
   "execution_count": 64,
   "metadata": {
    "ExecuteTime": {
     "end_time": "2020-05-20T10:49:41.891035Z",
     "start_time": "2020-05-20T10:49:41.805052Z"
    },
    "slideshow": {
     "slide_type": "fragment"
    }
   },
   "outputs": [],
   "source": [
    "import numpy as np\n",
    "np.random?"
   ]
  },
  {
   "cell_type": "markdown",
   "metadata": {
    "slideshow": {
     "slide_type": "subslide"
    }
   },
   "source": [
    " *** \"Why don't you ask... the Magic Conch, Squidward?\" ***\n",
    " \n",
    " <img src=\"magic_conch.jpg\" align=\"left\">"
   ]
  },
  {
   "cell_type": "markdown",
   "metadata": {
    "slideshow": {
     "slide_type": "slide"
    }
   },
   "source": [
    "## 0. prerequisite\n",
    " * Python IDE\n",
    "     * IDLE, NotePad++, Sublime Text, VS Code, Vim & Emacs...\n",
    "     * Pycharm, Spyder, Wing...\n",
    "     "
   ]
  },
  {
   "cell_type": "markdown",
   "metadata": {},
   "source": [
    "* Why Anaconda? (The World's Most Popular Data Science Platform Anaconda是一个软件发行版。软件发行版是一个预先建立和配置好的packages的集合，可以被安装在操作系统上，并被使用。)\n",
    "     * Open Source\n",
    "     * Conda packages (包管理器是自动化软件安装，更新，卸载的一种工具。Conda，有命令”conda install”, “conda update”, “conda remove”, 所以很明显， conda是包管理器。)\n",
    "     * Manage Environments\n",
    "     \n",
    "     <img src=\"navigator.png\" align=\"left\">\n",
    "     "
   ]
  },
  {
   "cell_type": "markdown",
   "metadata": {
    "ExecuteTime": {
     "end_time": "2020-05-20T08:33:04.178981Z",
     "start_time": "2020-05-20T08:33:04.138396Z"
    },
    "slideshow": {
     "slide_type": "subslide"
    }
   },
   "source": [
    "  * Conda packages\n",
    "  \n",
    "<img src=\"conda_packages.png\" align=\"left\">"
   ]
  },
  {
   "cell_type": "markdown",
   "metadata": {
    "slideshow": {
     "slide_type": "slide"
    }
   },
   "source": [
    "## 0. prerequisite cont.\n",
    "* Python is a **Interpretative language** : The code need to to be complie\n",
    "\n",
    "* The object in Python is **dynamic** : The object in Python need not to be previously defined .\n",
    "<img src=\"interpreted.png\">\n",
    "\n",
    "* Python 是交互式语言： 这意味着，您可以在一个 Python 提示符 >>> 后直接执行代码。\n",
    "* Python 是面向对象语言: 这意味着Python支持面向对象的风格或代码封装在对象的编程技术。"
   ]
  },
  {
   "cell_type": "code",
   "execution_count": 3,
   "metadata": {
    "ExecuteTime": {
     "end_time": "2020-05-19T11:52:29.767271Z",
     "start_time": "2020-05-19T11:52:29.755640Z"
    },
    "slideshow": {
     "slide_type": "subslide"
    }
   },
   "outputs": [
    {
     "name": "stdout",
     "output_type": "stream",
     "text": [
      "1000000\n"
     ]
    }
   ],
   "source": [
    "a = 100 # The object in Python need not to be previously defined \n",
    "b = a ** 3 # The code need to to be complie, just code and run \n",
    "print(b)"
   ]
  },
  {
   "cell_type": "markdown",
   "metadata": {
    "slideshow": {
     "slide_type": "slide"
    }
   },
   "source": [
    "## 1. Hello Python ！\n",
    "* The basic function of python is ```print()``` \n",
    "* ```print(a1,a2,...,an)``` accepts a series of arguments and print them in the same order with blank seperated.\n",
    "* \\\\n is the shift line \\\\t is tab \n",
    "* ```print(\"%{format1} %{format2}\" % ({a1}, {a2}))``` is the formated print\n",
    "* ```print(\"{format1} {format2}\".format({a1}, {a2}))``` is another formated print"
   ]
  },
  {
   "cell_type": "code",
   "execution_count": 8,
   "metadata": {
    "ExecuteTime": {
     "end_time": "2020-05-20T11:01:22.656662Z",
     "start_time": "2020-05-20T11:01:22.631105Z"
    },
    "slideshow": {
     "slide_type": "subslide"
    }
   },
   "outputs": [
    {
     "name": "stdout",
     "output_type": "stream",
     "text": [
      "Hello Python !\n",
      "Python is different from C++\n",
      "      6.72 RMB can be converted to 1.000 USD\n",
      "6.720 RMB can be converted to 1.000 USD\n",
      "hello\n"
     ]
    }
   ],
   "source": [
    "print(\"Hello Python !\")\n",
    "print(\"Python\",\"is\",\"different\",\"from\",\"C++\")\n",
    "print(\"%10.2f %s can be converted to %4.3f %s\" % (6.72, \"RMB\", 1, \"USD\"))\n",
    "print(\"{:4.3f} {} can be converted to {:4.3f} {}\".format(6.72, \"RMB\", 1, \"USD\"))\n",
    "s = 'hello'\n",
    "print(f'{s}')"
   ]
  },
  {
   "cell_type": "markdown",
   "metadata": {
    "slideshow": {
     "slide_type": "slide"
    }
   },
   "source": [
    "## 2. Objects in Python \n",
    "1. Basic Objects\n",
    "    * Number (including integer, float and complex number)\n",
    "    * String (Same as CPP, but notice that String is not mutable)\n",
    "    * Bool (True or False)\n",
    "    * None\n",
    "2. Data Structure\n",
    "    * List(list)\n",
    "    * Set (set)\n",
    "    * Tuple (Similar to List, but immutable)\n",
    "    * Dictionary(dict) "
   ]
  },
  {
   "cell_type": "markdown",
   "metadata": {
    "slideshow": {
     "slide_type": "slide"
    }
   },
   "source": [
    "### 2.1 Numbers in Python\n",
    "* Types of Number:\n",
    "     1. Integer : ```1,-10,1000```\n",
    "     2. Float: ```2.35, 4e-9```\n",
    "     3. Complex : ```1+2j (not commonly used)```\n",
    "* Operator:\n",
    "    1. \\+ \\- \\* : same in CPP\n",
    "    2. /        : division of float ```4/3 = 1.33333333```\n",
    "    3. //       : division of integer ```4//3 = 1 ```\n",
    "    2. \\*\\*       : power ```2\\**3 = 8, 2\\**1024 = ``` ...(too long :) )"
   ]
  },
  {
   "cell_type": "code",
   "execution_count": 3,
   "metadata": {
    "slideshow": {
     "slide_type": "subslide"
    }
   },
   "outputs": [
    {
     "name": "stdout",
     "output_type": "stream",
     "text": [
      "float division: 4.000 / 3.000 = 1.333\n",
      "Integer division: 4 // 3 = 1\n",
      "Power 2 of 3 is 8.000000\n",
      "Power 2 of 1000 is 179769313486231590772930519078902473361797697894230657273430081157732675805500963132708477322407536021120113879871393357658789768814416622492847430639474124377767893424865485276302219601246094119453082952085005768838150682342462881473913110540827237163350510684586298239947245938479716304835356329624224137216\n"
     ]
    }
   ],
   "source": [
    "print(\"float division: %4.3f / %4.3f = %4.3f\" % (4,3,4/3))\n",
    "print(\"Integer division: %d // %d = %d\" % (4,3,4//3))\n",
    "print(\"Power 2 of 3 is %f\\nPower 2 of 1000 is %d\" % (2**3, 2**1024))"
   ]
  },
  {
   "cell_type": "markdown",
   "metadata": {
    "slideshow": {
     "slide_type": "slide"
    }
   },
   "source": [
    "### 2.2 String\n",
    "* string is enclosed by ``` 'string' ,\"string\" or \"\"\"string\"\"\"``` \n",
    "e.g. ```s = \"You are the best!\"```\n",
    "* Get slices of string:\n",
    "    * Use [index1:index2] to get substring from starting index to end index (not included) : ```s[0:3] = \"You\" ```\n",
    "    * The index can be negative integer, indicating the index from the inverse order : ```s[-5:-1] = \"best\" ```\n",
    "    * If index1 is ignored, 0 is implicitly assigned, index 2 is ignored, the length of string is assigned\n",
    "    \n",
    "    <img src=\"index.png\">"
   ]
  },
  {
   "cell_type": "code",
   "execution_count": 34,
   "metadata": {
    "ExecuteTime": {
     "end_time": "2020-05-20T09:17:08.811271Z",
     "start_time": "2020-05-20T09:17:08.799212Z"
    },
    "slideshow": {
     "slide_type": "subslide"
    }
   },
   "outputs": [
    {
     "name": "stdout",
     "output_type": "stream",
     "text": [
      "Original string is    : \"You are the best!\" \n",
      "The first word is     : \"You\" \n",
      "The last word is      : \"best\" \n",
      "The first two word is : \"You are\" \n",
      "The last two word is  : \"the best!\" \n"
     ]
    }
   ],
   "source": [
    "s = \"You are the best!\"\n",
    "print(\"Original string is    : \\\"%s\\\" \" % s)\n",
    "print(\"The first word is     : \\\"%s\\\" \" % s[0:3])\n",
    "print(\"The last word is      : \\\"%s\\\" \" % s[-5:-1])\n",
    "print(\"The first two word is : \\\"%s\\\" \" % s[:7])\n",
    "print(\"The last two word is  : \\\"%s\\\" \" % s[-9:])"
   ]
  },
  {
   "cell_type": "code",
   "execution_count": 32,
   "metadata": {
    "ExecuteTime": {
     "end_time": "2020-05-20T08:55:32.119534Z",
     "start_time": "2020-05-20T08:55:32.115137Z"
    },
    "slideshow": {
     "slide_type": "subslide"
    }
   },
   "outputs": [
    {
     "name": "stdout",
     "output_type": "stream",
     "text": [
      "Hello\tWorld!\n",
      "Hello\\tWorld!\n",
      "b'Hello World!'\n",
      "Hello World!\n"
     ]
    }
   ],
   "source": [
    "s = \"Hello World!\"\n",
    "print(u\"Hello\\tWorld!\")    # unicode(default)\n",
    "print(r\"Hello\\tWorld!\")    # raw\n",
    "print(b\"Hello World!\")     # bytes\n",
    "print(f\"{s}\")              # format(updated in Python 3.6)"
   ]
  },
  {
   "cell_type": "markdown",
   "metadata": {
    "slideshow": {
     "slide_type": "slide"
    }
   },
   "source": [
    "### 2.2 String cont.\n",
    "* Concatenation of two or more strings : ```s1 + s2 + s3 ```\n",
    "* join multiple strings by seperator : ```sep.join((s1,s2,s3))```\n",
    "* Split string by specific seperator : ```s.split(sep) ```\n",
    "* Finding a substring s_sub by : ```s.find(s_sub)```\n",
    "  * if the substring exists, the function return the first index\n",
    "  * if not, s.find will return -1"
   ]
  },
  {
   "cell_type": "code",
   "execution_count": 66,
   "metadata": {
    "slideshow": {
     "slide_type": "subslide"
    }
   },
   "outputs": [
    {
     "name": "stdout",
     "output_type": "stream",
     "text": [
      "concatenation of s1,s2 and s3 is Howdareyou\n",
      "blank seperated joint is : How dare you\n",
      "seperation of s is : ['How', 'dare', 'you']\n",
      "Finding exist index is : 4\n",
      "Finding non-exist index is : -1\n"
     ]
    }
   ],
   "source": [
    "s1 = \"How\"\n",
    "s2 = \"dare\"\n",
    "s3 = \"you\"\n",
    "print(\"concatenation of s1,s2 and s3 is %s\" % s1+s2+s3)\n",
    "print(\"blank seperated joint is : %s\" % \" \".join((s1,s2,s3)))\n",
    "s = \" \".join((s1,s2,s3))\n",
    "print(\"seperation of s is : %s\" % s.split(\" \"))\n",
    "print(\"Finding exist index is : %s\" % s.find(\"dare\"))\n",
    "print(\"Finding non-exist index is : %s\" % s.find(\"I\"))"
   ]
  },
  {
   "cell_type": "markdown",
   "metadata": {
    "slideshow": {
     "slide_type": "slide"
    }
   },
   "source": [
    "## 2.3 List\n",
    "   * Using [] is the easiest way to create a List : l = [1,2,4,5,6]\n",
    "   * The length is obtained by **len(l)**.\n",
    "   * The selection operation is same as string as we discussed before. e.g. l[2:4]\n",
    "   * appending or inserting to a list is in a natural way : l.append(7), l.insert(2,3)\n",
    "   * Use **del** to delete an item from list by index : del l[4]\n",
    "   * Use **remove** to delete an item by value : l.remove(3)\n",
    "   * Sort the list in place by **l.sort()**"
   ]
  },
  {
   "cell_type": "markdown",
   "metadata": {
    "slideshow": {
     "slide_type": "subslide"
    }
   },
   "source": [
    "<img src=\"List.png\" width=\"50%\" align=\"left\">"
   ]
  },
  {
   "cell_type": "code",
   "execution_count": 66,
   "metadata": {
    "ExecuteTime": {
     "end_time": "2020-05-20T11:10:34.505831Z",
     "start_time": "2020-05-20T11:10:34.486005Z"
    },
    "slideshow": {
     "slide_type": "subslide"
    }
   },
   "outputs": [
    {
     "name": "stdout",
     "output_type": "stream",
     "text": [
      "Select items of index 2 and 3: [4, 5]\n",
      "Appending 7 : [1, 2, 4, 5, 6, 7] \n",
      "Insert 3 to index 2 : [1, 2, 3, 4, 5, 6, 7]\n",
      "deleting the 4th item : [1, 2, 3, 4, 6, 7]\n",
      "removing value 3 : [1, 2, 4, 6, 7]\n",
      "Sorting another list [3, 4, 21, 23, 44, 67]\n",
      "[3, 4, 21, 23, 44, 67]\n"
     ]
    }
   ],
   "source": [
    "l = [1,2,4,5,6]\n",
    "print(\"Select items of index 2 and 3: %s\" %(l[2:4]))\n",
    "l.append(7)\n",
    "print(\"Appending 7 : %s \" % l)\n",
    "l.insert(2,3) #insert(index, object)\n",
    "print(\"Insert 3 to index 2 : %s\" % l)\n",
    "del l[4]\n",
    "print(\"deleting the 4th item : %s\" %l)\n",
    "l.remove(3)\n",
    "print(\"removing value 3 : %s\" %l)\n",
    "l2 = [44,3,67,23,21,4]\n",
    "l2.sort()\n",
    "print(\"Sorting another list %s\" %l2)\n",
    "l2 = [44,3,67,23,21,4]\n",
    "l2 = sorted(l2)\n",
    "print(l2)"
   ]
  },
  {
   "cell_type": "markdown",
   "metadata": {
    "slideshow": {
     "slide_type": "slide"
    }
   },
   "source": [
    "## 2.4 Tuple\n",
    "  Tuples are identical to lists in all respects, except for the following properties:\n",
    "\n",
    "* Tuples are defined by enclosing the elements in parentheses (()) instead of square brackets ([]).\n",
    "* Tuples are immutable. (不可变的list)"
   ]
  },
  {
   "cell_type": "code",
   "execution_count": 48,
   "metadata": {
    "ExecuteTime": {
     "end_time": "2020-05-20T09:34:18.503273Z",
     "start_time": "2020-05-20T09:34:18.473768Z"
    },
    "slideshow": {
     "slide_type": "subslide"
    }
   },
   "outputs": [
    {
     "name": "stdout",
     "output_type": "stream",
     "text": [
      "foo\n"
     ]
    },
    {
     "ename": "TypeError",
     "evalue": "'tuple' object does not support item assignment",
     "output_type": "error",
     "traceback": [
      "\u001b[0;31m---------------------------------------------------------------------------\u001b[0m",
      "\u001b[0;31mTypeError\u001b[0m                                 Traceback (most recent call last)",
      "\u001b[0;32m<ipython-input-48-f555af47fff2>\u001b[0m in \u001b[0;36m<module>\u001b[0;34m\u001b[0m\n\u001b[1;32m      1\u001b[0m \u001b[0mt\u001b[0m \u001b[0;34m=\u001b[0m \u001b[0;34m(\u001b[0m\u001b[0;34m'foo'\u001b[0m\u001b[0;34m,\u001b[0m \u001b[0;34m'bar'\u001b[0m\u001b[0;34m,\u001b[0m \u001b[0;34m'baz'\u001b[0m\u001b[0;34m,\u001b[0m \u001b[0;34m'qux'\u001b[0m\u001b[0;34m,\u001b[0m \u001b[0;34m'quux'\u001b[0m\u001b[0;34m,\u001b[0m \u001b[0;34m'corge'\u001b[0m\u001b[0;34m)\u001b[0m\u001b[0;34m\u001b[0m\u001b[0;34m\u001b[0m\u001b[0m\n\u001b[1;32m      2\u001b[0m \u001b[0mprint\u001b[0m\u001b[0;34m(\u001b[0m\u001b[0mt\u001b[0m\u001b[0;34m[\u001b[0m\u001b[0;36m0\u001b[0m\u001b[0;34m]\u001b[0m\u001b[0;34m)\u001b[0m\u001b[0;34m\u001b[0m\u001b[0;34m\u001b[0m\u001b[0m\n\u001b[0;32m----> 3\u001b[0;31m \u001b[0mt\u001b[0m\u001b[0;34m[\u001b[0m\u001b[0;36m0\u001b[0m\u001b[0;34m]\u001b[0m \u001b[0;34m=\u001b[0m \u001b[0;34m\"all\"\u001b[0m\u001b[0;34m\u001b[0m\u001b[0;34m\u001b[0m\u001b[0m\n\u001b[0m",
      "\u001b[0;31mTypeError\u001b[0m: 'tuple' object does not support item assignment"
     ]
    }
   ],
   "source": [
    "t = ('foo', 'bar', 'baz', 'qux', 'quux', 'corge')\n",
    "print(t[0])\n",
    "t[0] = \"all\""
   ]
  },
  {
   "cell_type": "code",
   "execution_count": 53,
   "metadata": {
    "ExecuteTime": {
     "end_time": "2020-05-20T09:36:12.833905Z",
     "start_time": "2020-05-20T09:36:12.823261Z"
    },
    "slideshow": {
     "slide_type": "subslide"
    }
   },
   "outputs": [
    {
     "name": "stdout",
     "output_type": "stream",
     "text": [
      "1\n",
      "(1,)\n"
     ]
    }
   ],
   "source": [
    "t = (1)\n",
    "print(t)\n",
    "t = (1,)\n",
    "print(t)"
   ]
  },
  {
   "cell_type": "code",
   "execution_count": 49,
   "metadata": {
    "ExecuteTime": {
     "end_time": "2020-05-20T09:35:14.225134Z",
     "start_time": "2020-05-20T09:35:14.218597Z"
    },
    "slideshow": {
     "slide_type": "subslide"
    }
   },
   "outputs": [
    {
     "name": "stdout",
     "output_type": "stream",
     "text": [
      "(21, 25, 'ab', 'cd')\n"
     ]
    }
   ],
   "source": [
    "t1 = (21, 25)\n",
    "t2 = ('ab', 'cd')\n",
    "t3 = t1 + t2\n",
    "print(t3)"
   ]
  },
  {
   "cell_type": "markdown",
   "metadata": {
    "slideshow": {
     "slide_type": "slide"
    }
   },
   "source": [
    "## 2.5 Set\n",
    "   * A set is a collection which is unordered and unindexed. In Python sets are written with : **s = {1,2,5}**.\n",
    "   * Set can be treated as a **Dictionary** without value item.\n",
    "   * Set operation can be applied to Sets by : **s1.intersection(s2), s1.union(s2), s1.differece(s2)**\n",
    "   * Subset and SuperSet can be judged by **s1.issubset(s2) s1.issuperset(s2)**"
   ]
  },
  {
   "cell_type": "code",
   "execution_count": 88,
   "metadata": {
    "slideshow": {
     "slide_type": "subslide"
    }
   },
   "outputs": [
    {
     "name": "stdout",
     "output_type": "stream",
     "text": [
      "Intersection of sets is {4, 5}\n",
      "Union of sets is {1, 2, 3, 4, 5, 7}\n",
      "Different from s1 to s2 is {1, 2}\n"
     ]
    }
   ],
   "source": [
    "s1 = {1,2,4,5}\n",
    "s2 = {3,4,5,7}\n",
    "print(\"Intersection of sets is %s\" % s1.intersection(s2))\n",
    "print(\"Union of sets is %s\" % s1.union(s2))\n",
    "print(\"Different from s1 to s2 is %s\" % s1.difference(s2)) #s1 - s1交s2"
   ]
  },
  {
   "cell_type": "code",
   "execution_count": 10,
   "metadata": {
    "ExecuteTime": {
     "end_time": "2020-05-20T09:39:35.465220Z",
     "start_time": "2020-05-20T09:39:35.455872Z"
    },
    "slideshow": {
     "slide_type": "subslide"
    }
   },
   "outputs": [
    {
     "name": "stdout",
     "output_type": "stream",
     "text": [
      "{'B', 'D', 'C', 'A'}\n",
      "{'B', 'D', 'C'}\n",
      "False\n"
     ]
    }
   ],
   "source": [
    "s = set(['A', 'B', 'C'])\n",
    "s.update('D')\n",
    "print(s)\n",
    "s.discard('A')\n",
    "print(s)\n",
    "print('A' in s)\n",
    "# s.apppend('a')"
   ]
  },
  {
   "cell_type": "markdown",
   "metadata": {
    "slideshow": {
     "slide_type": "slide"
    }
   },
   "source": [
    "## 2.6 Dictionary\n",
    "   * use {} to create a dictionary by assigning **\"KEY-VALUE\"** pairs: d = {\"Ada\":19,\"Bod\":23,\"Levis\":12}\n",
    "   * dictionary is a hash map, similar to unordered_map in CPP\n",
    "   * The selection operation only support valid key e.g. d[\"Bob\"]. If the key is not valid, an Exception will raise\n",
    "   * Inter to a dictionary by assigning value to a key : d[\"Jacob\"] = 23\n",
    "   * Use **del** to delete an item from list by key : del d[\"Jacob\"]\n",
    "<img src=\"dict.png\">"
   ]
  },
  {
   "cell_type": "code",
   "execution_count": 14,
   "metadata": {
    "ExecuteTime": {
     "end_time": "2020-05-20T09:32:42.053881Z",
     "start_time": "2020-05-20T09:32:42.046815Z"
    },
    "slideshow": {
     "slide_type": "subslide"
    }
   },
   "outputs": [
    {
     "name": "stdout",
     "output_type": "stream",
     "text": [
      "select dict by key \"Ada\" : 19\n"
     ]
    }
   ],
   "source": [
    "d = {\"Ada\":19,\"Bob\":23,\"Levis\":12}\n",
    "print(\"select dict by key \\\"Ada\\\" : %s\" % d[\"Ada\"])"
   ]
  },
  {
   "cell_type": "code",
   "execution_count": 15,
   "metadata": {
    "ExecuteTime": {
     "end_time": "2020-05-20T09:32:42.423557Z",
     "start_time": "2020-05-20T09:32:42.395363Z"
    },
    "slideshow": {
     "slide_type": "subslide"
    }
   },
   "outputs": [
    {
     "name": "stdout",
     "output_type": "stream",
     "text": [
      "{'Ada': 19, 'Bob': 23, 'Levis': 12, 'Jacob': 23}\n"
     ]
    }
   ],
   "source": [
    "d[\"Jacob\"] = 23\n",
    "print(d)"
   ]
  },
  {
   "cell_type": "code",
   "execution_count": 16,
   "metadata": {
    "ExecuteTime": {
     "end_time": "2020-05-20T09:32:52.338422Z",
     "start_time": "2020-05-20T09:32:52.328600Z"
    },
    "slideshow": {
     "slide_type": "subslide"
    }
   },
   "outputs": [
    {
     "name": "stdout",
     "output_type": "stream",
     "text": [
      "{'Ada': 19, 'Bob': 23, 'Levis': 12}\n"
     ]
    },
    {
     "ename": "KeyError",
     "evalue": "'Jacob'",
     "output_type": "error",
     "traceback": [
      "\u001b[0;31m---------------------------------------------------------------------------\u001b[0m",
      "\u001b[0;31mKeyError\u001b[0m                                  Traceback (most recent call last)",
      "\u001b[0;32m/tmp/ipykernel_10621/2961313401.py\u001b[0m in \u001b[0;36m<module>\u001b[0;34m\u001b[0m\n\u001b[1;32m      3\u001b[0m \u001b[0;34m\u001b[0m\u001b[0m\n\u001b[1;32m      4\u001b[0m \u001b[0;31m# invalid key will incurse an Exception\u001b[0m\u001b[0;34m\u001b[0m\u001b[0;34m\u001b[0m\u001b[0;34m\u001b[0m\u001b[0m\n\u001b[0;32m----> 5\u001b[0;31m \u001b[0mprint\u001b[0m\u001b[0;34m(\u001b[0m\u001b[0md\u001b[0m\u001b[0;34m[\u001b[0m\u001b[0;34m'Jacob'\u001b[0m\u001b[0;34m]\u001b[0m\u001b[0;34m)\u001b[0m\u001b[0;34m\u001b[0m\u001b[0;34m\u001b[0m\u001b[0m\n\u001b[0m",
      "\u001b[0;31mKeyError\u001b[0m: 'Jacob'"
     ]
    }
   ],
   "source": [
    "del d[\"Jacob\"]\n",
    "print(d)\n",
    "\n",
    "# invalid key will incurse an Exception\n",
    "print(d['Jacob'])\n"
   ]
  },
  {
   "cell_type": "markdown",
   "metadata": {
    "slideshow": {
     "slide_type": "slide"
    }
   },
   "source": [
    "## 3. Control Flow\n",
    "The first important thing to remember is that:\n",
    "\n",
    "**Python use \"Tab\" indent to indicate a block of code;**\n",
    "\n",
    "**Code with the same indent to show the same hierachicy**"
   ]
  },
  {
   "cell_type": "markdown",
   "metadata": {
    "slideshow": {
     "slide_type": "slide"
    }
   },
   "source": [
    "## 3. Control Flow -- IF-ELSE\n",
    "**if statement:**\n",
    "\n",
    "    [Tab] code_block_IF\n",
    "\n",
    "**elif statement:**\n",
    "\n",
    "    [Tab] code_block_ELIF\n",
    "    \n",
    "**else:**\n",
    "\n",
    "    [Tab] code_block_ELSE"
   ]
  },
  {
   "cell_type": "code",
   "execution_count": 94,
   "metadata": {
    "slideshow": {
     "slide_type": "subslide"
    }
   },
   "outputs": [
    {
     "name": "stdout",
     "output_type": "stream",
     "text": [
      "Number is odd\n",
      "Number can be divided by 3\n",
      "Number can be divided by 7\n"
     ]
    }
   ],
   "source": [
    "num = 14**32 - 7\n",
    "if num % 2 == 0:\n",
    "    print(\"Number is even\")\n",
    "else:\n",
    "    print(\"Number is odd\")\n",
    "    if num % 3 == 0:\n",
    "        print(\"Number can be divided by 3\")\n",
    "    if num % 7 == 0:\n",
    "        print(\"Number can be divided by 7\")"
   ]
  },
  {
   "cell_type": "markdown",
   "metadata": {
    "slideshow": {
     "slide_type": "slide"
    }
   },
   "source": [
    "## 3. Control Flow -- WHILE\n",
    "**while statement:**\n",
    "\n",
    "    [Tab] code_block_WHILE\n"
   ]
  },
  {
   "cell_type": "code",
   "execution_count": 100,
   "metadata": {
    "slideshow": {
     "slide_type": "subslide"
    }
   },
   "outputs": [
    {
     "name": "stdout",
     "output_type": "stream",
     "text": [
      "GCD is 2\n"
     ]
    }
   ],
   "source": [
    "a = 50\n",
    "b = 24\n",
    "while b % a != 0:\n",
    "    a_temp = a\n",
    "    a = b % a\n",
    "    b = a_temp\n",
    "print(\"GCD is %d\" % a)"
   ]
  },
  {
   "cell_type": "markdown",
   "metadata": {
    "slideshow": {
     "slide_type": "slide"
    }
   },
   "source": [
    "## 3. Control Flow -- FOR\n",
    "**for x in sequence:**\n",
    "\n",
    "    [Tab] code_block_IF\n",
    "    \n",
    "**e.g. for(int i =0; i < 10; i++) <-> for i in range(10)**"
   ]
  },
  {
   "cell_type": "code",
   "execution_count": 101,
   "metadata": {
    "slideshow": {
     "slide_type": "subslide"
    }
   },
   "outputs": [
    {
     "name": "stdout",
     "output_type": "stream",
     "text": [
      "1\n",
      "2\n",
      "3\n",
      "4\n",
      "5\n"
     ]
    }
   ],
   "source": [
    "l = [1,2,3,4,5]\n",
    "for x in l:\n",
    "    print(x)"
   ]
  },
  {
   "cell_type": "code",
   "execution_count": 103,
   "metadata": {
    "slideshow": {
     "slide_type": "subslide"
    }
   },
   "outputs": [
    {
     "name": "stdout",
     "output_type": "stream",
     "text": [
      "Ada 19\n",
      "Bob 23\n",
      "Levis 12\n"
     ]
    }
   ],
   "source": [
    "d = {\"Ada\":19,\"Bob\":23,\"Levis\":12}\n",
    "for key in d.keys():\n",
    "    print(key, d[key])"
   ]
  },
  {
   "cell_type": "code",
   "execution_count": 61,
   "metadata": {
    "ExecuteTime": {
     "end_time": "2020-05-20T09:41:27.320954Z",
     "start_time": "2020-05-20T09:41:27.314659Z"
    },
    "slideshow": {
     "slide_type": "subslide"
    }
   },
   "outputs": [
    {
     "name": "stdout",
     "output_type": "stream",
     "text": [
      "0\n",
      "1\n",
      "2\n",
      "3\n",
      "4\n"
     ]
    }
   ],
   "source": [
    "for i in range(5):\n",
    "    print(i)"
   ]
  },
  {
   "cell_type": "markdown",
   "metadata": {
    "slideshow": {
     "slide_type": "slide"
    }
   },
   "source": [
    "## 4. Functional Programming\n",
    "**def fun(arg1, arg2, ... , argn):**\n",
    "\n",
    "    [Tab] function_procedure\n",
    "    [return v]"
   ]
  },
  {
   "cell_type": "code",
   "execution_count": 7,
   "metadata": {
    "ExecuteTime": {
     "end_time": "2019-09-18T12:08:28.737813Z",
     "start_time": "2019-09-18T12:08:28.727820Z"
    },
    "slideshow": {
     "slide_type": "subslide"
    }
   },
   "outputs": [
    {
     "data": {
      "text/plain": [
       "16"
      ]
     },
     "execution_count": 7,
     "metadata": {},
     "output_type": "execute_result"
    }
   ],
   "source": [
    "def GCD(a, b):\n",
    "    while b % a != 0:\n",
    "        a_temp = a\n",
    "        a = b % a\n",
    "        b = a_temp\n",
    "    return a\n",
    "\n",
    "GCD(32,48)"
   ]
  },
  {
   "cell_type": "code",
   "execution_count": 63,
   "metadata": {
    "ExecuteTime": {
     "end_time": "2020-05-20T09:43:06.237293Z",
     "start_time": "2020-05-20T09:43:06.231156Z"
    },
    "slideshow": {
     "slide_type": "subslide"
    }
   },
   "outputs": [
    {
     "name": "stdout",
     "output_type": "stream",
     "text": [
      "1\n",
      "2\n"
     ]
    }
   ],
   "source": [
    "x = 1\n",
    "def f():\n",
    "    x = 2\n",
    "    return x\n",
    "print(x)\n",
    "print(f())"
   ]
  },
  {
   "cell_type": "markdown",
   "metadata": {
    "slideshow": {
     "slide_type": "slide"
    }
   },
   "source": [
    "## 5. Data Structure\n",
    " * queue\n",
    " * stack\n",
    " * ordered dict\n",
    " * counter"
   ]
  },
  {
   "cell_type": "code",
   "execution_count": 67,
   "metadata": {
    "ExecuteTime": {
     "end_time": "2020-05-20T11:22:47.983400Z",
     "start_time": "2020-05-20T11:22:47.971269Z"
    }
   },
   "outputs": [],
   "source": [
    "from collections import Counter"
   ]
  },
  {
   "cell_type": "code",
   "execution_count": 68,
   "metadata": {
    "ExecuteTime": {
     "end_time": "2020-05-20T11:24:40.626758Z",
     "start_time": "2020-05-20T11:24:40.613249Z"
    }
   },
   "outputs": [
    {
     "data": {
      "text/plain": [
       "Counter({'a': 2, 'b': 1, 'c': 1})"
      ]
     },
     "execution_count": 68,
     "metadata": {},
     "output_type": "execute_result"
    }
   ],
   "source": [
    "a =['a', 'b', 'a', 'c']\n",
    "cnt = Counter()\n",
    "for _ in a:\n",
    "    cnt[_] += 1\n",
    "cnt"
   ]
  },
  {
   "cell_type": "code",
   "execution_count": 18,
   "metadata": {},
   "outputs": [
    {
     "name": "stdout",
     "output_type": "stream",
     "text": [
      "OrderedDict()\n",
      "OrderedDict([('kiwi', 4), ('apple', 5), ('cat', 3)])\n",
      "OrderedDict([('kiwi', 4), ('apple', 5), ('cat', 3), ('dog', 3)])\n"
     ]
    }
   ],
   "source": [
    "\n",
    "from collections import OrderedDict\n",
    "\n",
    "# creating a simple dict\n",
    "my_dict = {'kiwi': 4, 'apple': 5, 'cat': 3}\n",
    "\n",
    "# creating empty ordered dict\n",
    "ordered_dict = OrderedDict()\n",
    "print(ordered_dict)\n",
    "\n",
    "# creating ordered dict from dict\n",
    "ordered_dict = OrderedDict(my_dict)\n",
    "print(ordered_dict)\n",
    "\n",
    "# adding elements to dict\n",
    "ordered_dict['dog'] = 3\n",
    "print(ordered_dict)\n"
   ]
  },
  {
   "cell_type": "markdown",
   "metadata": {
    "slideshow": {
     "slide_type": "slide"
    }
   },
   "source": [
    "## 5. File Access\n",
    "* The key function for working with files in Python is the with-open() clourser:\n",
    "\n",
    "    with open(filename, mode) as f:\n",
    "        procedure(f)\n",
    "\n",
    "* The open(filename,mode) function takes two parameters; filename, and mode.\n",
    "\n",
    "* There are three different methods (modes) for opening a file:\n",
    "    * \"r\" - Read - Default value. Opens a file for reading, error if the file does not exist\n",
    "\n",
    "    * \"a\" - Append - Opens a file for appending, creates the file if it does not exist\n",
    "\n",
    "    * \"w\" - Write - Opens a file for writing, creates the file if it does not exist"
   ]
  },
  {
   "cell_type": "markdown",
   "metadata": {
    "slideshow": {
     "slide_type": "slide"
    }
   },
   "source": [
    "## 6. File Access cont.\n",
    "  * When obtaining file handler, we can use several function to read or write the file:\n",
    "      * f.read() : read only one character;\n",
    "      * f.readline(): read a line from file by indicating \"\\n\";\n",
    "      * f.write(): write "
   ]
  },
  {
   "cell_type": "code",
   "execution_count": 28,
   "metadata": {
    "ExecuteTime": {
     "end_time": "2019-09-20T04:36:51.289957Z",
     "start_time": "2019-09-20T04:36:51.280948Z"
    },
    "slideshow": {
     "slide_type": "subslide"
    }
   },
   "outputs": [
    {
     "name": "stdout",
     "output_type": "stream",
     "text": [
      "/home/yangcaihua/task/nlp_ta/0_python_beginner\n",
      "/home/yangcaihua/task/nlp_ta/0_python_beginner\n",
      "LUKE\tEcho Three to Echo Seven . Han , old buddy , do you   read me ?\n",
      "\n"
     ]
    }
   ],
   "source": [
    "import os\n",
    "print(os.getcwd())\n",
    "os.chdir('/home/yangcaihua/task/nlp_ta/0_python_beginner/')\n",
    "print(os.getcwd())\n",
    "with open(\"./StarWar.txt\",\"r\") as f:\n",
    "        line =  f.readline()\n",
    "print(line)"
   ]
  },
  {
   "cell_type": "markdown",
   "metadata": {
    "slideshow": {
     "slide_type": "slide"
    }
   },
   "source": [
    "## 7. Comprehensive Example -- Sort Dict by value\n",
    " The dict object is a ** unordered ** hash map, which is not support sort.\n",
    " * The dict is firstly convert to a list of tuple containing (key, value).\n",
    " * A new key function should be defined to tell sort function how to identify the order of items.\n",
    " * Use sort function"
   ]
  },
  {
   "cell_type": "code",
   "execution_count": 13,
   "metadata": {
    "ExecuteTime": {
     "end_time": "2019-09-20T04:36:55.380588Z",
     "start_time": "2019-09-20T04:36:55.375591Z"
    },
    "slideshow": {
     "slide_type": "subslide"
    }
   },
   "outputs": [
    {
     "name": "stdout",
     "output_type": "stream",
     "text": [
      "[('Levis', 12), ('Ada', 19), ('Bob', 23)]\n"
     ]
    }
   ],
   "source": [
    "d = {\"Ada\":19,\"Bob\":23,\"Levis\":12}\n",
    "list_of_d = []\n",
    "# convert the dict to list\n",
    "for key in d:\n",
    "    list_of_d.append((key, d[key]))\n",
    "# define new key function\n",
    "def dict_key(item):\n",
    "    return item[1]\n",
    "# use sort function\n",
    "list_of_d.sort(key=dict_key)\n",
    "print(list_of_d)"
   ]
  },
  {
   "cell_type": "markdown",
   "metadata": {
    "ExecuteTime": {
     "end_time": "2019-09-20T06:46:00.287466Z",
     "start_time": "2019-09-20T06:46:00.283469Z"
    },
    "slideshow": {
     "slide_type": "slide"
    }
   },
   "source": [
    "# Have a try!\n",
    "### Harbin Institute of Technology (Shenzhen)\n",
    "<img src=\"HLT_logo.png\" width=\"30%\" align=\"left\">"
   ]
  },
  {
   "cell_type": "markdown",
   "metadata": {
    "slideshow": {
     "slide_type": "slide"
    }
   },
   "source": [
    "## Requirement\n",
    "* python 3\n",
    "* Jupyter Notebook\n",
    "* Some python package: numpy, pandas, spacy, nltk, etc..."
   ]
  },
  {
   "cell_type": "markdown",
   "metadata": {
    "slideshow": {
     "slide_type": "slide"
    }
   },
   "source": [
    "## Tips\n",
    "* Use command line to install python packages\n",
    "<br> e.g. pip install numpy/pandas/spacy....\n",
    "* Assignment creates references, not copies"
   ]
  },
  {
   "cell_type": "markdown",
   "metadata": {
    "slideshow": {
     "slide_type": "slide"
    }
   },
   "source": [
    "## Procedure\n",
    "* Download a script file \"SW_EpisodeV.txt\" (recommended) or whatever you like\n",
    "* Show the roles who speak the most. (top 10)\n",
    "* Show the most frequent words. (top 20)\n",
    "* show the most frequent words of top 5 roles.\n",
    "* optional\n",
    "    * Tokenization\n",
    "        * spacy (spaCy是用于高级自然语言处理的开源软件库)\n",
    "    * Removing stop words\n",
    "    * Visualization\n",
    "        * matplotlib\n",
    "        * seaborn\n",
    "        * wordcloud"
   ]
  },
  {
   "cell_type": "markdown",
   "metadata": {
    "ExecuteTime": {
     "end_time": "2019-09-20T06:46:47.830084Z",
     "start_time": "2019-09-20T06:46:47.827099Z"
    },
    "slideshow": {
     "slide_type": "subslide"
    }
   },
   "source": [
    "## Example"
   ]
  },
  {
   "cell_type": "code",
   "execution_count": 23,
   "metadata": {
    "ExecuteTime": {
     "end_time": "2019-09-20T06:53:19.983228Z",
     "start_time": "2019-09-20T06:53:19.975233Z"
    },
    "slideshow": {
     "slide_type": "subslide"
    }
   },
   "outputs": [],
   "source": [
    "line_list = []\n",
    "with open(\"./SW_EpisodeV.txt\",\"r\") as f:\n",
    "    f.readline()\n",
    "    for line in f:\n",
    "        num, character, text = line.strip().split(\"\\\" \\\"\")\n",
    "        character = character.lstrip(\"\\\"\").rstrip(\"\\\"\")\n",
    "        text = text.lstrip(\"\\\"\").rstrip(\"\\\"\")\n",
    "        line_list.append((character, text))"
   ]
  },
  {
   "cell_type": "code",
   "execution_count": 87,
   "metadata": {
    "ExecuteTime": {
     "end_time": "2019-09-20T07:24:19.481801Z",
     "start_time": "2019-09-20T07:24:19.477802Z"
    },
    "slideshow": {
     "slide_type": "subslide"
    }
   },
   "outputs": [
    {
     "data": {
      "text/plain": [
       "[('LUKE', 'Echo Three to Echo Seven. Han, old buddy, do you  read me?'),\n",
       " ('HAN', \"Loud and clear, kid. What's up?\"),\n",
       " ('LUKE', \"Well, I finished my circle. I don't pick up any  life readings.\"),\n",
       " ('HAN',\n",
       "  \"There isn't enough life on this ice cube to fill a  space cruiser. The sensors are placed. I'm going back.\"),\n",
       " ('LUKE',\n",
       "  \"Right. I'll see you shortly. There's a meteorite  that hit the ground near here. I want to check it out. It won't take long.\"),\n",
       " ('LUKE', \"Hey, steady girl. What's the matter? You smell something?\"),\n",
       " ('LUKE', 'Aaargh!'),\n",
       " ('HAN', 'Chewie!'),\n",
       " ('HAN',\n",
       "  \"All right, don't lose your temper. I'll come right back and give  you a hand.\"),\n",
       " ('RIEEKAN', 'Solo?')]"
      ]
     },
     "execution_count": 87,
     "metadata": {},
     "output_type": "execute_result"
    }
   ],
   "source": [
    "line_list[:10]"
   ]
  },
  {
   "cell_type": "code",
   "execution_count": 24,
   "metadata": {
    "ExecuteTime": {
     "end_time": "2019-09-20T06:53:20.598916Z",
     "start_time": "2019-09-20T06:53:20.354015Z"
    },
    "slideshow": {
     "slide_type": "subslide"
    }
   },
   "outputs": [],
   "source": [
    "import spacy\n",
    "nlp = spacy.load(\"en\")"
   ]
  },
  {
   "cell_type": "code",
   "execution_count": 25,
   "metadata": {
    "ExecuteTime": {
     "end_time": "2019-09-20T06:53:27.151099Z",
     "start_time": "2019-09-20T06:53:20.613867Z"
    },
    "slideshow": {
     "slide_type": "subslide"
    }
   },
   "outputs": [],
   "source": [
    "new_line_list = []\n",
    "for index,line in enumerate(line_list):\n",
    "    word_list = list([str(word) for  word in nlp(line[1])])\n",
    "    new_line_list.append((line[0], \" \".join(word_list)))\n",
    "with open(\"./StarWar.txt\",\"w\") as wf:\n",
    "    for line in new_line_list:\n",
    "        wf.write(\"%s\\t%s\\n\"%(line[0], line[1]))"
   ]
  },
  {
   "cell_type": "code",
   "execution_count": 88,
   "metadata": {
    "ExecuteTime": {
     "end_time": "2019-09-20T07:24:24.288045Z",
     "start_time": "2019-09-20T07:24:24.283036Z"
    },
    "scrolled": true,
    "slideshow": {
     "slide_type": "subslide"
    }
   },
   "outputs": [
    {
     "data": {
      "text/plain": [
       "[('LUKE', 'Echo Three to Echo Seven . Han , old buddy , do you   read me ?'),\n",
       " ('HAN', \"Loud and clear , kid . What 's up ?\"),\n",
       " ('LUKE',\n",
       "  \"Well , I finished my circle . I do n't pick up any   life readings .\"),\n",
       " ('HAN',\n",
       "  \"There is n't enough life on this ice cube to fill a   space cruiser . The sensors are placed . I 'm going back .\"),\n",
       " ('LUKE',\n",
       "  \"Right . I 'll see you shortly . There 's a meteorite   that hit the ground near here . I want to check it out . It wo n't take long .\"),\n",
       " ('LUKE', \"Hey , steady girl . What 's the matter ? You smell something ?\"),\n",
       " ('LUKE', 'Aaargh !'),\n",
       " ('HAN', 'Chewie !'),\n",
       " ('HAN',\n",
       "  \"All right , do n't lose your temper . I 'll come right back and give   you a hand .\"),\n",
       " ('RIEEKAN', 'Solo ?')]"
      ]
     },
     "execution_count": 88,
     "metadata": {},
     "output_type": "execute_result"
    }
   ],
   "source": [
    "new_line_list[:10]"
   ]
  },
  {
   "cell_type": "code",
   "execution_count": 34,
   "metadata": {
    "ExecuteTime": {
     "end_time": "2019-09-20T06:59:48.420508Z",
     "start_time": "2019-09-20T06:59:48.414510Z"
    },
    "scrolled": true,
    "slideshow": {
     "slide_type": "subslide"
    }
   },
   "outputs": [
    {
     "data": {
      "text/plain": [
       "Counter({'LUKE': 128,\n",
       "         'HAN': 182,\n",
       "         'RIEEKAN': 13,\n",
       "         'LEIA': 114,\n",
       "         'THREEPIO': 92,\n",
       "         'DECK OFFICER': 7,\n",
       "         'ASSISTANT OFFICER': 1,\n",
       "         'LIEUTENANT': 2,\n",
       "         'DERLIN': 3,\n",
       "         'BEN': 15,\n",
       "         'ZEV': 6,\n",
       "         'ANNOUNCER': 3,\n",
       "         'SENIOR CONTROLLER': 2,\n",
       "         'PIETT': 23,\n",
       "         'OZZEL': 5,\n",
       "         'VADER': 56,\n",
       "         'REBEL CAPTAIN': 1,\n",
       "         'REBEL FIGHTER': 1,\n",
       "         'MEDICAL DROID': 2,\n",
       "         'CONTROLLER': 3,\n",
       "         'VEERS': 7,\n",
       "         'HOBBIE': 1,\n",
       "         'PILOTS': 1,\n",
       "         'CAPTAIN': 1,\n",
       "         'WOMAN CONTROLLER': 1,\n",
       "         'DACK': 4,\n",
       "         'TRENCH OFFICER': 3,\n",
       "         'WEDGE': 8,\n",
       "         'JANSON': 4,\n",
       "         'HEAD CONTROLLER': 1,\n",
       "         'OFFICER': 1,\n",
       "         'SECOND OFFICER': 1,\n",
       "         'PILOT': 1,\n",
       "         'IMPERIAL OFFICER': 2,\n",
       "         'STRANGE VOICE': 1,\n",
       "         'CREATURE': 21,\n",
       "         'NEEDA': 5,\n",
       "         'EMPEROR': 5,\n",
       "         'YODA': 36,\n",
       "         'FIRST CONTROLLER': 1,\n",
       "         'SECOND CONTROLLER': 1,\n",
       "         'BOBA FETT': 4,\n",
       "         'TRACKING OFFICER': 2,\n",
       "         'COMMUNICATIONS OFFICER': 2,\n",
       "         'INTERCOM VOICE': 2,\n",
       "         'LANDO': 61,\n",
       "         'SECOND THREEPIO': 1,\n",
       "         'MAN': 1,\n",
       "         'IMPERIAL SOLDIER': 1})"
      ]
     },
     "execution_count": 34,
     "metadata": {},
     "output_type": "execute_result"
    }
   ],
   "source": [
    "from collections import Counter\n",
    "character = Counter()\n",
    "for line in new_line_list:\n",
    "    character[line[0]] += 1\n",
    "character"
   ]
  },
  {
   "cell_type": "code",
   "execution_count": 50,
   "metadata": {
    "ExecuteTime": {
     "end_time": "2019-09-20T07:04:31.277596Z",
     "start_time": "2019-09-20T07:04:31.272616Z"
    },
    "scrolled": true,
    "slideshow": {
     "slide_type": "subslide"
    }
   },
   "outputs": [
    {
     "data": {
      "text/plain": [
       "[('HAN', 182),\n",
       " ('LUKE', 128),\n",
       " ('LEIA', 114),\n",
       " ('THREEPIO', 92),\n",
       " ('LANDO', 61),\n",
       " ('VADER', 56),\n",
       " ('YODA', 36),\n",
       " ('PIETT', 23),\n",
       " ('CREATURE', 21),\n",
       " ('BEN', 15)]"
      ]
     },
     "execution_count": 50,
     "metadata": {},
     "output_type": "execute_result"
    }
   ],
   "source": [
    "char_freq = sorted(character.items(), key=lambda item:item[1], reverse=True)\n",
    "char_freq[:10]"
   ]
  },
  {
   "cell_type": "code",
   "execution_count": 28,
   "metadata": {
    "ExecuteTime": {
     "end_time": "2019-09-20T06:58:16.376519Z",
     "start_time": "2019-09-20T06:58:16.367526Z"
    },
    "slideshow": {
     "slide_type": "subslide"
    }
   },
   "outputs": [],
   "source": [
    "import pandas as pd\n",
    "SW_V = pd.read_table('SW_EpisodeV.txt', delim_whitespace=True, header=0, escapechar='\\\\')"
   ]
  },
  {
   "cell_type": "code",
   "execution_count": 29,
   "metadata": {
    "ExecuteTime": {
     "end_time": "2019-09-20T06:58:19.670636Z",
     "start_time": "2019-09-20T06:58:19.655645Z"
    },
    "scrolled": true,
    "slideshow": {
     "slide_type": "subslide"
    }
   },
   "outputs": [
    {
     "data": {
      "text/html": [
       "<div>\n",
       "<style scoped>\n",
       "    .dataframe tbody tr th:only-of-type {\n",
       "        vertical-align: middle;\n",
       "    }\n",
       "\n",
       "    .dataframe tbody tr th {\n",
       "        vertical-align: top;\n",
       "    }\n",
       "\n",
       "    .dataframe thead th {\n",
       "        text-align: right;\n",
       "    }\n",
       "</style>\n",
       "<table border=\"1\" class=\"dataframe\">\n",
       "  <thead>\n",
       "    <tr style=\"text-align: right;\">\n",
       "      <th></th>\n",
       "      <th>character</th>\n",
       "      <th>dialogue</th>\n",
       "    </tr>\n",
       "  </thead>\n",
       "  <tbody>\n",
       "    <tr>\n",
       "      <th>1</th>\n",
       "      <td>LUKE</td>\n",
       "      <td>Echo Three to Echo Seven. Han, old buddy, do y...</td>\n",
       "    </tr>\n",
       "    <tr>\n",
       "      <th>2</th>\n",
       "      <td>HAN</td>\n",
       "      <td>Loud and clear, kid. What's up?</td>\n",
       "    </tr>\n",
       "    <tr>\n",
       "      <th>3</th>\n",
       "      <td>LUKE</td>\n",
       "      <td>Well, I finished my circle. I don't pick up an...</td>\n",
       "    </tr>\n",
       "    <tr>\n",
       "      <th>4</th>\n",
       "      <td>HAN</td>\n",
       "      <td>There isn't enough life on this ice cube to fi...</td>\n",
       "    </tr>\n",
       "    <tr>\n",
       "      <th>5</th>\n",
       "      <td>LUKE</td>\n",
       "      <td>Right. I'll see you shortly. There's a meteori...</td>\n",
       "    </tr>\n",
       "    <tr>\n",
       "      <th>6</th>\n",
       "      <td>LUKE</td>\n",
       "      <td>Hey, steady girl. What's the matter? You smell...</td>\n",
       "    </tr>\n",
       "    <tr>\n",
       "      <th>7</th>\n",
       "      <td>LUKE</td>\n",
       "      <td>Aaargh!</td>\n",
       "    </tr>\n",
       "    <tr>\n",
       "      <th>8</th>\n",
       "      <td>HAN</td>\n",
       "      <td>Chewie!</td>\n",
       "    </tr>\n",
       "    <tr>\n",
       "      <th>9</th>\n",
       "      <td>HAN</td>\n",
       "      <td>All right, don't lose your temper. I'll come r...</td>\n",
       "    </tr>\n",
       "    <tr>\n",
       "      <th>10</th>\n",
       "      <td>RIEEKAN</td>\n",
       "      <td>Solo?</td>\n",
       "    </tr>\n",
       "    <tr>\n",
       "      <th>11</th>\n",
       "      <td>HAN</td>\n",
       "      <td>No sign of life out there, General. The sensor...</td>\n",
       "    </tr>\n",
       "    <tr>\n",
       "      <th>12</th>\n",
       "      <td>RIEEKAN</td>\n",
       "      <td>Commander Skywalker reported in yet?</td>\n",
       "    </tr>\n",
       "    <tr>\n",
       "      <th>13</th>\n",
       "      <td>HAN</td>\n",
       "      <td>No. He's checking out a meteorite that hit nea...</td>\n",
       "    </tr>\n",
       "    <tr>\n",
       "      <th>14</th>\n",
       "      <td>RIEEKAN</td>\n",
       "      <td>With all the meteor activity in this  system, ...</td>\n",
       "    </tr>\n",
       "    <tr>\n",
       "      <th>15</th>\n",
       "      <td>HAN</td>\n",
       "      <td>General, I've got to leave. I can't stay anymore.</td>\n",
       "    </tr>\n",
       "    <tr>\n",
       "      <th>16</th>\n",
       "      <td>RIEEKAN</td>\n",
       "      <td>I'm sorry to hear that.</td>\n",
       "    </tr>\n",
       "    <tr>\n",
       "      <th>17</th>\n",
       "      <td>HAN</td>\n",
       "      <td>Well, there's a price on my head. If I don't p...</td>\n",
       "    </tr>\n",
       "    <tr>\n",
       "      <th>18</th>\n",
       "      <td>RIEEKAN</td>\n",
       "      <td>A death mark's not an easy thing to live with....</td>\n",
       "    </tr>\n",
       "    <tr>\n",
       "      <th>19</th>\n",
       "      <td>HAN</td>\n",
       "      <td>Thank you, General.</td>\n",
       "    </tr>\n",
       "    <tr>\n",
       "      <th>20</th>\n",
       "      <td>HAN</td>\n",
       "      <td>Well, Your Highness, I guess this is it.</td>\n",
       "    </tr>\n",
       "    <tr>\n",
       "      <th>21</th>\n",
       "      <td>LEIA</td>\n",
       "      <td>That's right.</td>\n",
       "    </tr>\n",
       "    <tr>\n",
       "      <th>22</th>\n",
       "      <td>HAN</td>\n",
       "      <td>Well, don't get all mushy on me. So long, Prin...</td>\n",
       "    </tr>\n",
       "    <tr>\n",
       "      <th>23</th>\n",
       "      <td>LEIA</td>\n",
       "      <td>Han!</td>\n",
       "    </tr>\n",
       "    <tr>\n",
       "      <th>24</th>\n",
       "      <td>HAN</td>\n",
       "      <td>Yes, Your Highnessness?</td>\n",
       "    </tr>\n",
       "    <tr>\n",
       "      <th>25</th>\n",
       "      <td>LEIA</td>\n",
       "      <td>I thought you decided to stay.</td>\n",
       "    </tr>\n",
       "    <tr>\n",
       "      <th>26</th>\n",
       "      <td>HAN</td>\n",
       "      <td>Well, the bounty hunter we ran into on Ord Man...</td>\n",
       "    </tr>\n",
       "    <tr>\n",
       "      <th>27</th>\n",
       "      <td>LEIA</td>\n",
       "      <td>Han, we need you!</td>\n",
       "    </tr>\n",
       "    <tr>\n",
       "      <th>28</th>\n",
       "      <td>HAN</td>\n",
       "      <td>We?</td>\n",
       "    </tr>\n",
       "    <tr>\n",
       "      <th>29</th>\n",
       "      <td>LEIA</td>\n",
       "      <td>Yes.</td>\n",
       "    </tr>\n",
       "    <tr>\n",
       "      <th>30</th>\n",
       "      <td>HAN</td>\n",
       "      <td>Oh, what about you need?</td>\n",
       "    </tr>\n",
       "    <tr>\n",
       "      <th>...</th>\n",
       "      <td>...</td>\n",
       "      <td>...</td>\n",
       "    </tr>\n",
       "    <tr>\n",
       "      <th>810</th>\n",
       "      <td>LEIA</td>\n",
       "      <td>All the coordinates are set. It's now or never.</td>\n",
       "    </tr>\n",
       "    <tr>\n",
       "      <th>811</th>\n",
       "      <td>LANDO</td>\n",
       "      <td>Punch it!</td>\n",
       "    </tr>\n",
       "    <tr>\n",
       "      <th>812</th>\n",
       "      <td>LANDO</td>\n",
       "      <td>They told me they fixed it. I trusted them to ...</td>\n",
       "    </tr>\n",
       "    <tr>\n",
       "      <th>813</th>\n",
       "      <td>PIETT</td>\n",
       "      <td>They'll be in range of our tractor beam in mom...</td>\n",
       "    </tr>\n",
       "    <tr>\n",
       "      <th>814</th>\n",
       "      <td>VADER</td>\n",
       "      <td>Did your men deactivate the hyperdrive on the ...</td>\n",
       "    </tr>\n",
       "    <tr>\n",
       "      <th>815</th>\n",
       "      <td>PIETT</td>\n",
       "      <td>Yes, my lord.</td>\n",
       "    </tr>\n",
       "    <tr>\n",
       "      <th>816</th>\n",
       "      <td>VADER</td>\n",
       "      <td>Good. Prepare the boarding party and set for y...</td>\n",
       "    </tr>\n",
       "    <tr>\n",
       "      <th>817</th>\n",
       "      <td>PIETT</td>\n",
       "      <td>Yes, my lord.</td>\n",
       "    </tr>\n",
       "    <tr>\n",
       "      <th>818</th>\n",
       "      <td>THREEPIO</td>\n",
       "      <td>Noisy brute. Why don't we just go into light-s...</td>\n",
       "    </tr>\n",
       "    <tr>\n",
       "      <th>819</th>\n",
       "      <td>THREEPIO</td>\n",
       "      <td>We can't? How would you know the hyperdrive is...</td>\n",
       "    </tr>\n",
       "    <tr>\n",
       "      <th>820</th>\n",
       "      <td>THREEPIO</td>\n",
       "      <td>The city's central computer told you? Artoo-De...</td>\n",
       "    </tr>\n",
       "    <tr>\n",
       "      <th>821</th>\n",
       "      <td>VADER</td>\n",
       "      <td>Luke.</td>\n",
       "    </tr>\n",
       "    <tr>\n",
       "      <th>822</th>\n",
       "      <td>LUKE</td>\n",
       "      <td>Father.</td>\n",
       "    </tr>\n",
       "    <tr>\n",
       "      <th>823</th>\n",
       "      <td>VADER</td>\n",
       "      <td>Son, come with me.</td>\n",
       "    </tr>\n",
       "    <tr>\n",
       "      <th>824</th>\n",
       "      <td>LUKE</td>\n",
       "      <td>Ben, why didn't you tell me?</td>\n",
       "    </tr>\n",
       "    <tr>\n",
       "      <th>825</th>\n",
       "      <td>LANDO</td>\n",
       "      <td>Chewie!</td>\n",
       "    </tr>\n",
       "    <tr>\n",
       "      <th>826</th>\n",
       "      <td>LUKE</td>\n",
       "      <td>It's Vader.</td>\n",
       "    </tr>\n",
       "    <tr>\n",
       "      <th>827</th>\n",
       "      <td>VADER</td>\n",
       "      <td>Luke...it is your destiny.</td>\n",
       "    </tr>\n",
       "    <tr>\n",
       "      <th>828</th>\n",
       "      <td>LUKE</td>\n",
       "      <td>Ben, why didn't you tell me?</td>\n",
       "    </tr>\n",
       "    <tr>\n",
       "      <th>829</th>\n",
       "      <td>PIETT</td>\n",
       "      <td>Alert all commands. Ready for the tractor beam.</td>\n",
       "    </tr>\n",
       "    <tr>\n",
       "      <th>830</th>\n",
       "      <td>THREEPIO</td>\n",
       "      <td>Artoo, come back at once! You haven't finished...</td>\n",
       "    </tr>\n",
       "    <tr>\n",
       "      <th>831</th>\n",
       "      <td>THREEPIO</td>\n",
       "      <td>Oh, you did it!</td>\n",
       "    </tr>\n",
       "    <tr>\n",
       "      <th>832</th>\n",
       "      <td>LANDO</td>\n",
       "      <td>Luke, we're ready for takeoff.</td>\n",
       "    </tr>\n",
       "    <tr>\n",
       "      <th>833</th>\n",
       "      <td>LUKE</td>\n",
       "      <td>Good luck, Lando</td>\n",
       "    </tr>\n",
       "    <tr>\n",
       "      <th>834</th>\n",
       "      <td>LANDO</td>\n",
       "      <td>When we find Jabba the Hut and that bounty  hu...</td>\n",
       "    </tr>\n",
       "    <tr>\n",
       "      <th>835</th>\n",
       "      <td>LUKE</td>\n",
       "      <td>I'll meet you at the rendezvous point on  Tato...</td>\n",
       "    </tr>\n",
       "    <tr>\n",
       "      <th>836</th>\n",
       "      <td>LANDO</td>\n",
       "      <td>Princess, we'll find Han. I promise.</td>\n",
       "    </tr>\n",
       "    <tr>\n",
       "      <th>837</th>\n",
       "      <td>LUKE</td>\n",
       "      <td>Chewie, I'll be waiting for your signal.</td>\n",
       "    </tr>\n",
       "    <tr>\n",
       "      <th>838</th>\n",
       "      <td>LUKE</td>\n",
       "      <td>Take care, you two. May the Force be with you.</td>\n",
       "    </tr>\n",
       "    <tr>\n",
       "      <th>839</th>\n",
       "      <td>LUKE</td>\n",
       "      <td>Ow!</td>\n",
       "    </tr>\n",
       "  </tbody>\n",
       "</table>\n",
       "<p>839 rows × 2 columns</p>\n",
       "</div>"
      ],
      "text/plain": [
       "    character                                           dialogue\n",
       "1        LUKE  Echo Three to Echo Seven. Han, old buddy, do y...\n",
       "2         HAN                    Loud and clear, kid. What's up?\n",
       "3        LUKE  Well, I finished my circle. I don't pick up an...\n",
       "4         HAN  There isn't enough life on this ice cube to fi...\n",
       "5        LUKE  Right. I'll see you shortly. There's a meteori...\n",
       "..        ...                                                ...\n",
       "835      LUKE  I'll meet you at the rendezvous point on  Tato...\n",
       "836     LANDO               Princess, we'll find Han. I promise.\n",
       "837      LUKE           Chewie, I'll be waiting for your signal.\n",
       "838      LUKE     Take care, you two. May the Force be with you.\n",
       "839      LUKE                                                Ow!\n",
       "\n",
       "[839 rows x 2 columns]"
      ]
     },
     "execution_count": 29,
     "metadata": {},
     "output_type": "execute_result"
    }
   ],
   "source": [
    "SW_V"
   ]
  },
  {
   "cell_type": "code",
   "execution_count": 31,
   "metadata": {
    "ExecuteTime": {
     "end_time": "2019-09-20T06:58:40.801452Z",
     "start_time": "2019-09-20T06:58:40.784462Z"
    },
    "slideshow": {
     "slide_type": "subslide"
    }
   },
   "outputs": [
    {
     "data": {
      "text/html": [
       "<div>\n",
       "<style scoped>\n",
       "    .dataframe tbody tr th:only-of-type {\n",
       "        vertical-align: middle;\n",
       "    }\n",
       "\n",
       "    .dataframe tbody tr th {\n",
       "        vertical-align: top;\n",
       "    }\n",
       "\n",
       "    .dataframe thead th {\n",
       "        text-align: right;\n",
       "    }\n",
       "</style>\n",
       "<table border=\"1\" class=\"dataframe\">\n",
       "  <thead>\n",
       "    <tr style=\"text-align: right;\">\n",
       "      <th></th>\n",
       "      <th>character</th>\n",
       "      <th>dialogue</th>\n",
       "    </tr>\n",
       "  </thead>\n",
       "  <tbody>\n",
       "    <tr>\n",
       "      <th>count</th>\n",
       "      <td>839</td>\n",
       "      <td>839</td>\n",
       "    </tr>\n",
       "    <tr>\n",
       "      <th>unique</th>\n",
       "      <td>49</td>\n",
       "      <td>818</td>\n",
       "    </tr>\n",
       "    <tr>\n",
       "      <th>top</th>\n",
       "      <td>HAN</td>\n",
       "      <td>Yes, my lord.</td>\n",
       "    </tr>\n",
       "    <tr>\n",
       "      <th>freq</th>\n",
       "      <td>182</td>\n",
       "      <td>6</td>\n",
       "    </tr>\n",
       "  </tbody>\n",
       "</table>\n",
       "</div>"
      ],
      "text/plain": [
       "       character       dialogue\n",
       "count        839            839\n",
       "unique        49            818\n",
       "top          HAN  Yes, my lord.\n",
       "freq         182              6"
      ]
     },
     "execution_count": 31,
     "metadata": {},
     "output_type": "execute_result"
    }
   ],
   "source": [
    "SW_V.describe()"
   ]
  },
  {
   "cell_type": "code",
   "execution_count": 57,
   "metadata": {
    "ExecuteTime": {
     "end_time": "2019-09-20T07:10:14.398986Z",
     "start_time": "2019-09-20T07:10:14.390978Z"
    },
    "slideshow": {
     "slide_type": "subslide"
    }
   },
   "outputs": [
    {
     "data": {
      "text/plain": [
       "HAN         182\n",
       "LUKE        128\n",
       "LEIA        114\n",
       "THREEPIO     92\n",
       "LANDO        61\n",
       "VADER        56\n",
       "YODA         36\n",
       "PIETT        23\n",
       "CREATURE     21\n",
       "BEN          15\n",
       "Name: character, dtype: int64"
      ]
     },
     "execution_count": 57,
     "metadata": {},
     "output_type": "execute_result"
    }
   ],
   "source": [
    "top10chars = SW_V['character'].value_counts()[:10]\n",
    "top10chars"
   ]
  },
  {
   "cell_type": "code",
   "execution_count": 83,
   "metadata": {
    "ExecuteTime": {
     "end_time": "2019-09-20T07:17:38.447236Z",
     "start_time": "2019-09-20T07:17:38.267326Z"
    },
    "slideshow": {
     "slide_type": "subslide"
    }
   },
   "outputs": [
    {
     "data": {
      "image/png": "[encoded data removed]",
      "text/plain": [
       "<Figure size 720x360 with 1 Axes>"
      ]
     },
     "metadata": {},
     "output_type": "display_data"
    }
   ],
   "source": [
    "%matplotlib inline\n",
    "import matplotlib.pyplot as plt\n",
    "\n",
    "plt.figure(facecolor='w', figsize=(10, 5))\n",
    "plt\n",
    "plt.bar(top10chars.index, top10chars.values)\n",
    "plt.xlabel('X')\n",
    "plt.ylabel('Count')\n",
    "plt.show()"
   ]
  },
  {
   "cell_type": "code",
   "execution_count": 44,
   "metadata": {
    "ExecuteTime": {
     "end_time": "2019-09-20T07:01:57.484174Z",
     "start_time": "2019-09-20T07:01:57.471193Z"
    },
    "scrolled": true,
    "slideshow": {
     "slide_type": "subslide"
    }
   },
   "outputs": [
    {
     "data": {
      "text/html": [
       "<div>\n",
       "<style scoped>\n",
       "    .dataframe tbody tr th:only-of-type {\n",
       "        vertical-align: middle;\n",
       "    }\n",
       "\n",
       "    .dataframe tbody tr th {\n",
       "        vertical-align: top;\n",
       "    }\n",
       "\n",
       "    .dataframe thead th {\n",
       "        text-align: right;\n",
       "    }\n",
       "</style>\n",
       "<table border=\"1\" class=\"dataframe\">\n",
       "  <thead>\n",
       "    <tr style=\"text-align: right;\">\n",
       "      <th></th>\n",
       "      <th>character</th>\n",
       "      <th>dialogue</th>\n",
       "    </tr>\n",
       "  </thead>\n",
       "  <tbody>\n",
       "    <tr>\n",
       "      <th>2</th>\n",
       "      <td>HAN</td>\n",
       "      <td>Loud and clear, kid. What's up?</td>\n",
       "    </tr>\n",
       "    <tr>\n",
       "      <th>4</th>\n",
       "      <td>HAN</td>\n",
       "      <td>There isn't enough life on this ice cube to fi...</td>\n",
       "    </tr>\n",
       "    <tr>\n",
       "      <th>8</th>\n",
       "      <td>HAN</td>\n",
       "      <td>Chewie!</td>\n",
       "    </tr>\n",
       "    <tr>\n",
       "      <th>9</th>\n",
       "      <td>HAN</td>\n",
       "      <td>All right, don't lose your temper. I'll come r...</td>\n",
       "    </tr>\n",
       "    <tr>\n",
       "      <th>11</th>\n",
       "      <td>HAN</td>\n",
       "      <td>No sign of life out there, General. The sensor...</td>\n",
       "    </tr>\n",
       "    <tr>\n",
       "      <th>13</th>\n",
       "      <td>HAN</td>\n",
       "      <td>No. He's checking out a meteorite that hit nea...</td>\n",
       "    </tr>\n",
       "    <tr>\n",
       "      <th>15</th>\n",
       "      <td>HAN</td>\n",
       "      <td>General, I've got to leave. I can't stay anymore.</td>\n",
       "    </tr>\n",
       "    <tr>\n",
       "      <th>17</th>\n",
       "      <td>HAN</td>\n",
       "      <td>Well, there's a price on my head. If I don't p...</td>\n",
       "    </tr>\n",
       "    <tr>\n",
       "      <th>19</th>\n",
       "      <td>HAN</td>\n",
       "      <td>Thank you, General.</td>\n",
       "    </tr>\n",
       "    <tr>\n",
       "      <th>20</th>\n",
       "      <td>HAN</td>\n",
       "      <td>Well, Your Highness, I guess this is it.</td>\n",
       "    </tr>\n",
       "    <tr>\n",
       "      <th>22</th>\n",
       "      <td>HAN</td>\n",
       "      <td>Well, don't get all mushy on me. So long, Prin...</td>\n",
       "    </tr>\n",
       "    <tr>\n",
       "      <th>24</th>\n",
       "      <td>HAN</td>\n",
       "      <td>Yes, Your Highnessness?</td>\n",
       "    </tr>\n",
       "    <tr>\n",
       "      <th>26</th>\n",
       "      <td>HAN</td>\n",
       "      <td>Well, the bounty hunter we ran into on Ord Man...</td>\n",
       "    </tr>\n",
       "    <tr>\n",
       "      <th>28</th>\n",
       "      <td>HAN</td>\n",
       "      <td>We?</td>\n",
       "    </tr>\n",
       "    <tr>\n",
       "      <th>30</th>\n",
       "      <td>HAN</td>\n",
       "      <td>Oh, what about you need?</td>\n",
       "    </tr>\n",
       "    <tr>\n",
       "      <th>32</th>\n",
       "      <td>HAN</td>\n",
       "      <td>You probably don't.</td>\n",
       "    </tr>\n",
       "    <tr>\n",
       "      <th>34</th>\n",
       "      <td>HAN</td>\n",
       "      <td>Come on! You want me to stay because of the wa...</td>\n",
       "    </tr>\n",
       "    <tr>\n",
       "      <th>36</th>\n",
       "      <td>HAN</td>\n",
       "      <td>No! That's not it. Come on. Aahhh -- uh huh! C...</td>\n",
       "    </tr>\n",
       "    <tr>\n",
       "      <th>38</th>\n",
       "      <td>HAN</td>\n",
       "      <td>Am I? Then why are you following me? Afraid I ...</td>\n",
       "    </tr>\n",
       "    <tr>\n",
       "      <th>40</th>\n",
       "      <td>HAN</td>\n",
       "      <td>I can arrange that. You could use a good kiss!</td>\n",
       "    </tr>\n",
       "    <tr>\n",
       "      <th>43</th>\n",
       "      <td>HAN</td>\n",
       "      <td>Why do you take this apart now? I'm trying to ...</td>\n",
       "    </tr>\n",
       "    <tr>\n",
       "      <th>45</th>\n",
       "      <td>HAN</td>\n",
       "      <td>Put them back together right now.</td>\n",
       "    </tr>\n",
       "    <tr>\n",
       "      <th>47</th>\n",
       "      <td>HAN</td>\n",
       "      <td>What do you want?</td>\n",
       "    </tr>\n",
       "    <tr>\n",
       "      <th>49</th>\n",
       "      <td>HAN</td>\n",
       "      <td>I turned it off. I don't want to talk to her.</td>\n",
       "    </tr>\n",
       "    <tr>\n",
       "      <th>51</th>\n",
       "      <td>HAN</td>\n",
       "      <td>I don't know where he is.</td>\n",
       "    </tr>\n",
       "    <tr>\n",
       "      <th>53</th>\n",
       "      <td>HAN</td>\n",
       "      <td>What do you mean, \"nobody knows\"?</td>\n",
       "    </tr>\n",
       "    <tr>\n",
       "      <th>55</th>\n",
       "      <td>HAN</td>\n",
       "      <td>Deck Officer. Deck Officer!</td>\n",
       "    </tr>\n",
       "    <tr>\n",
       "      <th>58</th>\n",
       "      <td>HAN</td>\n",
       "      <td>Do you know where Commander Skywalker is?</td>\n",
       "    </tr>\n",
       "    <tr>\n",
       "      <th>60</th>\n",
       "      <td>HAN</td>\n",
       "      <td>It's possible? Why don't you go find out? It's...</td>\n",
       "    </tr>\n",
       "    <tr>\n",
       "      <th>63</th>\n",
       "      <td>HAN</td>\n",
       "      <td>Why not?</td>\n",
       "    </tr>\n",
       "    <tr>\n",
       "      <th>...</th>\n",
       "      <td>...</td>\n",
       "      <td>...</td>\n",
       "    </tr>\n",
       "    <tr>\n",
       "      <th>589</th>\n",
       "      <td>HAN</td>\n",
       "      <td>Look, don't worry. Everything's going to be fi...</td>\n",
       "    </tr>\n",
       "    <tr>\n",
       "      <th>590</th>\n",
       "      <td>HAN</td>\n",
       "      <td>See? My friend.  Keep your eyes open, okay?</td>\n",
       "    </tr>\n",
       "    <tr>\n",
       "      <th>596</th>\n",
       "      <td>HAN</td>\n",
       "      <td>Ahh...repairs. I thought you could  help me out.</td>\n",
       "    </tr>\n",
       "    <tr>\n",
       "      <th>598</th>\n",
       "      <td>HAN</td>\n",
       "      <td>Your ship? Hey, remember, you lost her to me f...</td>\n",
       "    </tr>\n",
       "    <tr>\n",
       "      <th>602</th>\n",
       "      <td>HAN</td>\n",
       "      <td>All right, all right, you old smoothie.</td>\n",
       "    </tr>\n",
       "    <tr>\n",
       "      <th>606</th>\n",
       "      <td>HAN</td>\n",
       "      <td>Hyperdrive.</td>\n",
       "    </tr>\n",
       "    <tr>\n",
       "      <th>608</th>\n",
       "      <td>HAN</td>\n",
       "      <td>Good.</td>\n",
       "    </tr>\n",
       "    <tr>\n",
       "      <th>610</th>\n",
       "      <td>HAN</td>\n",
       "      <td>How's the gas mine? Is it paying off for you?</td>\n",
       "    </tr>\n",
       "    <tr>\n",
       "      <th>612</th>\n",
       "      <td>HAN</td>\n",
       "      <td>You. Listen to you -- you sound like a busines...</td>\n",
       "    </tr>\n",
       "    <tr>\n",
       "      <th>614</th>\n",
       "      <td>HAN</td>\n",
       "      <td>Yeah.</td>\n",
       "    </tr>\n",
       "    <tr>\n",
       "      <th>649</th>\n",
       "      <td>HAN</td>\n",
       "      <td>The ship is almost finished. Two or Three more...</td>\n",
       "    </tr>\n",
       "    <tr>\n",
       "      <th>651</th>\n",
       "      <td>HAN</td>\n",
       "      <td>Relax. I'll talk to Lando and see what I can f...</td>\n",
       "    </tr>\n",
       "    <tr>\n",
       "      <th>653</th>\n",
       "      <td>HAN</td>\n",
       "      <td>Well, I don't trust him, either. But he is my ...</td>\n",
       "    </tr>\n",
       "    <tr>\n",
       "      <th>656</th>\n",
       "      <td>HAN</td>\n",
       "      <td>Where? Found him in a junk pile?</td>\n",
       "    </tr>\n",
       "    <tr>\n",
       "      <th>658</th>\n",
       "      <td>HAN</td>\n",
       "      <td>Lando's got people who can fix him.</td>\n",
       "    </tr>\n",
       "    <tr>\n",
       "      <th>667</th>\n",
       "      <td>HAN</td>\n",
       "      <td>No. No problem. Why?</td>\n",
       "    </tr>\n",
       "    <tr>\n",
       "      <th>671</th>\n",
       "      <td>HAN</td>\n",
       "      <td>Aren't you afraid the Empire's going to find o...</td>\n",
       "    </tr>\n",
       "    <tr>\n",
       "      <th>675</th>\n",
       "      <td>HAN</td>\n",
       "      <td>I'm sorry, too.</td>\n",
       "    </tr>\n",
       "    <tr>\n",
       "      <th>692</th>\n",
       "      <td>HAN</td>\n",
       "      <td>I feel terrible.</td>\n",
       "    </tr>\n",
       "    <tr>\n",
       "      <th>694</th>\n",
       "      <td>HAN</td>\n",
       "      <td>They never even asked me any questions.</td>\n",
       "    </tr>\n",
       "    <tr>\n",
       "      <th>696</th>\n",
       "      <td>HAN</td>\n",
       "      <td>Get out of here, Lando!</td>\n",
       "    </tr>\n",
       "    <tr>\n",
       "      <th>698</th>\n",
       "      <td>HAN</td>\n",
       "      <td>Over to you?</td>\n",
       "    </tr>\n",
       "    <tr>\n",
       "      <th>704</th>\n",
       "      <td>HAN</td>\n",
       "      <td>Luke?</td>\n",
       "    </tr>\n",
       "    <tr>\n",
       "      <th>708</th>\n",
       "      <td>HAN</td>\n",
       "      <td>Perfect. You fixed us all pretty good, didn't ...</td>\n",
       "    </tr>\n",
       "    <tr>\n",
       "      <th>710</th>\n",
       "      <td>HAN</td>\n",
       "      <td>Yeah, you're a real hero.</td>\n",
       "    </tr>\n",
       "    <tr>\n",
       "      <th>718</th>\n",
       "      <td>HAN</td>\n",
       "      <td>What's going on...buddy?</td>\n",
       "    </tr>\n",
       "    <tr>\n",
       "      <th>723</th>\n",
       "      <td>HAN</td>\n",
       "      <td>Stop, Chewie, stop! Do you hear me? Stop!</td>\n",
       "    </tr>\n",
       "    <tr>\n",
       "      <th>725</th>\n",
       "      <td>HAN</td>\n",
       "      <td>Chewie! Chewie, this won't help me. Hey!</td>\n",
       "    </tr>\n",
       "    <tr>\n",
       "      <th>726</th>\n",
       "      <td>HAN</td>\n",
       "      <td>Save your strength. There'll be another time. ...</td>\n",
       "    </tr>\n",
       "    <tr>\n",
       "      <th>728</th>\n",
       "      <td>HAN</td>\n",
       "      <td>I know.</td>\n",
       "    </tr>\n",
       "  </tbody>\n",
       "</table>\n",
       "<p>182 rows × 2 columns</p>\n",
       "</div>"
      ],
      "text/plain": [
       "    character                                           dialogue\n",
       "2         HAN                    Loud and clear, kid. What's up?\n",
       "4         HAN  There isn't enough life on this ice cube to fi...\n",
       "8         HAN                                            Chewie!\n",
       "9         HAN  All right, don't lose your temper. I'll come r...\n",
       "11        HAN  No sign of life out there, General. The sensor...\n",
       "..        ...                                                ...\n",
       "718       HAN                           What's going on...buddy?\n",
       "723       HAN          Stop, Chewie, stop! Do you hear me? Stop!\n",
       "725       HAN           Chewie! Chewie, this won't help me. Hey!\n",
       "726       HAN  Save your strength. There'll be another time. ...\n",
       "728       HAN                                            I know.\n",
       "\n",
       "[182 rows x 2 columns]"
      ]
     },
     "execution_count": 44,
     "metadata": {},
     "output_type": "execute_result"
    }
   ],
   "source": [
    "HAN = SW_V[SW_V['character'] == 'HAN']\n",
    "HAN"
   ]
  },
  {
   "cell_type": "code",
   "execution_count": 54,
   "metadata": {
    "ExecuteTime": {
     "end_time": "2019-09-20T07:05:38.422924Z",
     "start_time": "2019-09-20T07:05:38.415927Z"
    },
    "scrolled": false,
    "slideshow": {
     "slide_type": "subslide"
    }
   },
   "outputs": [
    {
     "data": {
      "text/plain": [
       "[('to', 48),\n",
       " ('a', 39),\n",
       " ('you', 37),\n",
       " ('I', 36),\n",
       " ('the', 36),\n",
       " ('of', 20),\n",
       " (\"I'm\", 19),\n",
       " ('out', 16),\n",
       " ('in', 15),\n",
       " ('going', 14),\n",
       " (\"don't\", 12),\n",
       " ('it.', 12),\n",
       " ('me', 12),\n",
       " ('it', 12),\n",
       " ('and', 11),\n",
       " ('Well,', 11),\n",
       " ('get', 11),\n",
       " ('You', 11),\n",
       " ('Come', 11),\n",
       " ('this', 10)]"
      ]
     },
     "execution_count": 54,
     "metadata": {},
     "output_type": "execute_result"
    }
   ],
   "source": [
    "HAN_dialogues = HAN['dialogue'].tolist()\n",
    "word_cnt = Counter()\n",
    "for dialogue in HAN_dialogues:\n",
    "    for word in dialogue.strip().split(' '):\n",
    "        if word != '':\n",
    "            word_cnt[word] += 1\n",
    "word_freq = sorted(word_cnt.items(), key=lambda item:item[1], reverse=True)\n",
    "word_freq[:20]"
   ]
  },
  {
   "cell_type": "code",
   "execution_count": 86,
   "metadata": {
    "ExecuteTime": {
     "end_time": "2019-09-20T07:19:42.114533Z",
     "start_time": "2019-09-20T07:19:41.789719Z"
    },
    "slideshow": {
     "slide_type": "subslide"
    }
   },
   "outputs": [
    {
     "data": {
      "image/png": "[encoded data removed]",
      "text/plain": [
       "<Figure size 1440x360 with 1 Axes>"
      ]
     },
     "metadata": {},
     "output_type": "display_data"
    }
   ],
   "source": [
    "plt.figure(facecolor='w', figsize=(20, 5))\n",
    "plt\n",
    "plt.bar([item[0] for item in word_freq[:20]], [item[1] for item in word_freq[:20]])\n",
    "plt.xlabel('X')\n",
    "plt.ylabel('Count')\n",
    "plt.show()"
   ]
  },
  {
   "cell_type": "markdown",
   "metadata": {
    "slideshow": {
     "slide_type": "subslide"
    }
   },
   "source": [
    "## WordCloud\n",
    "from wordcloud import WordCloud\n",
    "<br>\n",
    "from imageio import imread\n",
    "\n",
    "<img src=\"word_cloud.png\" width=\"30%\" align=\"left\">"
   ]
  }
 ],
 "metadata": {
  "celltoolbar": "幻灯片",
  "kernelspec": {
   "display_name": "Python 3",
   "language": "python",
   "name": "python3"
  },
  "language_info": {
   "codemirror_mode": {
    "name": "ipython",
    "version": 3
   },
   "file_extension": ".py",
   "mimetype": "text/x-python",
   "name": "python",
   "nbconvert_exporter": "python",
   "pygments_lexer": "ipython3",
   "version": "3.8.10"
  },
  "latex_envs": {
   "LaTeX_envs_menu_present": true,
   "autoclose": false,
   "autocomplete": true,
   "bibliofile": "biblio.bib",
   "cite_by": "apalike",
   "current_citInitial": 1,
   "eqLabelWithNumbers": true,
   "eqNumInitial": 1,
   "hotkeys": {
    "equation": "Ctrl-E",
    "itemize": "Ctrl-I"
   },
   "labels_anchors": false,
   "latex_user_defs": false,
   "report_style_numbering": false,
   "user_envs_cfg": false
  },
  "toc": {
   "base_numbering": 1,
   "nav_menu": {},
   "number_sections": true,
   "sideBar": true,
   "skip_h1_title": false,
   "title_cell": "Table of Contents",
   "title_sidebar": "Contents",
   "toc_cell": false,
   "toc_position": {},
   "toc_section_display": true,
   "toc_window_display": false
  },
  "varInspector": {
   "cols": {
    "lenName": 16,
    "lenType": 16,
    "lenVar": 40
   },
   "kernels_config": {
    "python": {
     "delete_cmd_postfix": "",
     "delete_cmd_prefix": "del ",
     "library": "var_list.py",
     "varRefreshCmd": "print(var_dic_list())"
    },
    "r": {
     "delete_cmd_postfix": ") ",
     "delete_cmd_prefix": "rm(",
     "library": "var_list.r",
     "varRefreshCmd": "cat(var_dic_list()) "
    }
   },
   "types_to_exclude": [
    "module",
    "function",
    "builtin_function_or_method",
    "instance",
    "_Feature"
   ],
   "window_display": false
  }
 },
 "nbformat": 4,
 "nbformat_minor": 2
}
