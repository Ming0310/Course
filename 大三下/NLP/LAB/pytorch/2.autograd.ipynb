{
 "cells": [
  {
   "cell_type": "markdown",
   "metadata": {},
   "source": [
    "## 2. Autograd\n",
    "\n",
    "神经网络本质上都是一个autograd package(自动求导工具包),提供了一个对Tensors上所有的操作进行自动微分的功能.\n",
    "\n",
    "### tensor: \n",
    "- .requires_grad设置为True, 它将追踪在这个类上定义的所有操作. 当代码要进行反向传播的时候, \n",
    "- .backward()就可以自动计算所有的梯度. \n",
    "- 在这个Tensor上的所有梯度将被累加进属性.grad中.\n",
    "- .grad_fn属性, 代表引用了哪个具体的Function创建了该Tensor.\n",
    "- 终止一个Tensor在计算图中的追踪回溯, 只需要执行.detach()就可以将该Tensor从计算图中撤下, 在未来的回溯计算中也不会再计算该Tensor.\n",
    "- 也可以采用代码块的方式with torch.no_grad()."
   ]
  },
  {
   "cell_type": "code",
   "execution_count": 1,
   "metadata": {},
   "outputs": [
    {
     "name": "stdout",
     "output_type": "stream",
     "text": [
      "tensor([[3., 3.],\n",
      "        [3., 3.]], grad_fn=<AddBackward0>)\n",
      "<AddBackward0 object at 0x7f705c4760d0>\n",
      "<MulBackward0 object at 0x7f703ed61250>\n",
      "tensor([[27., 27.],\n",
      "        [27., 27.]], grad_fn=<MulBackward0>) tensor(27., grad_fn=<MeanBackward0>)\n",
      "False\n",
      "True\n",
      "<SumBackward0 object at 0x7f705c4760d0>\n"
     ]
    }
   ],
   "source": [
    "import torch\n",
    "x = torch.ones(2,2,requires_grad=True)\n",
    "y = x+2\n",
    "print(y)\n",
    "print(y.grad_fn)\n",
    "z = x*2\n",
    "print(z.grad_fn)\n",
    "t = y*y*3\n",
    "out = t.mean()\n",
    "print(t,out)\n",
    "out = torch.rand(4)\n",
    "print(out.requires_grad)\n",
    "out.requires_grad_(True)\n",
    "b = (out*out).sum()\n",
    "print(out.requires_grad)\n",
    "print(b.grad_fn)"
   ]
  },
  {
   "cell_type": "code",
   "execution_count": 5,
   "metadata": {},
   "outputs": [
    {
     "name": "stdout",
     "output_type": "stream",
     "text": [
      "tensor([[1., 1.],\n",
      "        [1., 1.]], requires_grad=True)\n",
      "tensor([[3., 3.],\n",
      "        [3., 3.]], grad_fn=<AddBackward0>)\n",
      "tensor(3., grad_fn=<MeanBackward0>)\n",
      "tensor([[0.2500, 0.2500],\n",
      "        [0.2500, 0.2500]])\n",
      "None\n",
      "None\n",
      "True\n",
      "True\n",
      "True\n",
      "True\n",
      "False\n",
      "tensor(True)\n"
     ]
    }
   ],
   "source": [
    "import torch\n",
    "x = torch.ones(2,2,requires_grad=True)\n",
    "y = x+2\n",
    "# z = y*y*3\n",
    "out = y.mean()\n",
    "print(x)\n",
    "print(y)\n",
    "# print(z)\n",
    "print(out)\n",
    "out.backward()\n",
    "# y.backward()\n",
    "print(x.grad)\n",
    "print(y.grad)\n",
    "# print(z.grad)\n",
    "print(out.grad)\n",
    "print(x.requires_grad)\n",
    "print(y.requires_grad)\n",
    "with torch.no_grad():\n",
    "    print(x.requires_grad)\n",
    "y = x.detach()\n",
    "print(x.requires_grad)\n",
    "print(y.requires_grad)\n",
    "print(x.eq(y).all())"
   ]
  }
 ],
 "metadata": {
  "interpreter": {
   "hash": "98a99fa221f06f708072c4ee4ae796a4fc4d1412fb20fefb4ecbaa74a53967e3"
  },
  "kernelspec": {
   "display_name": "Python 3.8.10 ('py385': conda)",
   "language": "python",
   "name": "python3"
  },
  "language_info": {
   "codemirror_mode": {
    "name": "ipython",
    "version": 3
   },
   "file_extension": ".py",
   "mimetype": "text/x-python",
   "name": "python",
   "nbconvert_exporter": "python",
   "pygments_lexer": "ipython3",
   "version": "3.8.10"
  },
  "orig_nbformat": 4
 },
 "nbformat": 4,
 "nbformat_minor": 2
}
