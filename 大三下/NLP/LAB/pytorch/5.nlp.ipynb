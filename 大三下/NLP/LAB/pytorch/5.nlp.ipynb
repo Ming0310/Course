{
 "cells": [
  {
   "cell_type": "markdown",
   "metadata": {},
   "source": [
    "## 5. NLP基础\n",
    "\n",
    "自然语言处理（Natural Language Processing, 简称NLP）是计算机科学与语言学中关注于计算机与人类语言间转换的领域.\n"
   ]
  },
  {
   "cell_type": "markdown",
   "metadata": {},
   "source": [
    "### 文本预处理\n",
    "\n",
    "文本处理的基本方法：\n",
    "- 分词\n",
    "- 词性标注\n",
    "- 命名实体识别\n",
    "       \n",
    "文本张量表示方法：\n",
    "- one-hot编码\n",
    "- Word2vec\n",
    "- Word Embedding\n",
    "\n",
    "文本语料的数据分析：\n",
    "- 标签数量分布\n",
    "- 句子长度分布\n",
    "- 词频统计与关键词词云\n",
    "\n",
    "文本特征处理：\n",
    "- 添加n-gram特征\n",
    "- 文本长度规范\n",
    "\n",
    "数据增强方法：\n",
    "- 回译数据增强法"
   ]
  },
  {
   "cell_type": "markdown",
   "metadata": {},
   "source": [
    "## 1. 文本处理的基本方法：\n",
    "\n",
    "### 1.1分词\n"
   ]
  },
  {
   "cell_type": "code",
   "execution_count": 1,
   "metadata": {},
   "outputs": [
    {
     "name": "stderr",
     "output_type": "stream",
     "text": [
      "Building prefix dict from the default dictionary ...\n",
      "Loading model from cache /tmp/jieba.cache\n",
      "Loading model cost 0.548 seconds.\n",
      "Prefix dict has been built successfully.\n"
     ]
    },
    {
     "name": "stdout",
     "output_type": "stream",
     "text": [
      "['工信处', '女干事', '每月', '经过', '下属', '科室', '都', '要', '亲口', '交代', '24', '口', '交换机', '等', '技术性', '器件', '的', '安装', '工作']\n",
      "['工信处', '处女', '女干事', '干事', '每月', '月经', '经过', '下属', '科室', '都', '要', '亲口', '口交', '交代', '24', '口交', '交换', '交换机', '换机', '等', '技术', '技术性', '性器', '器件', '的', '安装', '安装工', '装工', '工作']\n",
      "['工信处', '干事', '女干事', '每月', '经过', '下属', '科室', '都', '要', '亲口', '交代', '24', '口', '交换', '换机', '交换机', '等', '技术', '技术性', '器件', '的', '安装', '工作']\n"
     ]
    }
   ],
   "source": [
    "import jieba\n",
    "# 精确 < 搜索引擎 < 全模式\n",
    "content = \"工信处女干事每月经过下属科室都要亲口交代24口交换机等技术性器件的安装工作\"\n",
    "print(jieba.lcut(content, cut_all=False)) #精确\n",
    "print(jieba.lcut(content, cut_all=True)) #全\n",
    "print(jieba.lcut_for_search(content)) #搜索\n",
    "\n",
    "# 词典格式: 每一行分三部分：词语、词频（可省略）、词性（可省略）\n",
    "# jieba.load_userdict(\"./userdict.txt\")"
   ]
  },
  {
   "cell_type": "code",
   "execution_count": 4,
   "metadata": {},
   "outputs": [
    {
     "name": "stderr",
     "output_type": "stream",
     "text": [
      "                                                \r"
     ]
    },
    {
     "name": "stdout",
     "output_type": "stream",
     "text": [
      "['工信处', '女', '干事', '每', '月', '经过', '下属', '科室', '都', '要', '亲口', '交代', '24', '口', '交换机', '等', '技术性', '器件', '的', '安装', '工作']\n"
     ]
    }
   ],
   "source": [
    "import hanlp\n",
    "tokenizer = hanlp.load('CTB6_CONVSEG')\n",
    "print(tokenizer(\"工信处女干事每月经过下属科室都要亲口交代24口交换机等技术性器件的安装工作\"))\n",
    "# tokenizer = hanlp.utils.rules.tokenize_english\n",
    "# print(tokenizer('Mr. Hankcs bought hankcs.com for 1.5 thousand dollars.'))"
   ]
  },
  {
   "cell_type": "markdown",
   "metadata": {},
   "source": [
    "### 1.2 命名实体识别\n"
   ]
  },
  {
   "cell_type": "code",
   "execution_count": 6,
   "metadata": {},
   "outputs": [
    {
     "name": "stdout",
     "output_type": "stream",
     "text": [
      "[('上海华安工业（集团）公司', 'NT', 0, 12), ('谭旭光', 'NR', 15, 18), ('张晚霞', 'NR', 21, 24), ('美国', 'NS', 26, 28), ('纽约现代艺术博物馆', 'NS', 28, 37)]\n"
     ]
    }
   ],
   "source": [
    "# ner\n",
    "recognizer_chinese = hanlp.load(hanlp.pretrained.ner.MSRA_NER_BERT_BASE_ZH)\n",
    "print(recognizer_chinese(list('上海华安工业（集团）公司董事长谭旭光和秘书张晚霞来到美国纽约现代艺术博物馆参观。')))\n",
    "# recognizer_en = hanlp.load(hanlp.pretrained.ner.CONLL03_NER_BERT_BASE_UNCASED_EN)\n",
    "# print(recognizer([\"President\", \"Obama\", \"is\", \"speaking\", \"at\", \"the\", \"White\", \"House\"]))"
   ]
  },
  {
   "cell_type": "markdown",
   "metadata": {},
   "source": [
    "### 1.3 词性标注\n"
   ]
  },
  {
   "cell_type": "code",
   "execution_count": 2,
   "metadata": {},
   "outputs": [
    {
     "name": "stderr",
     "output_type": "stream",
     "text": [
      "Building prefix dict from the default dictionary ...\n",
      "Loading model from cache /tmp/jieba.cache\n",
      "Loading model cost 0.539 seconds.\n",
      "Prefix dict has been built successfully.\n"
     ]
    },
    {
     "data": {
      "text/plain": [
       "[pair('我', 'r'), pair('爱', 'v'), pair('北京', 'ns'), pair('天安门', 'ns')]"
      ]
     },
     "execution_count": 2,
     "metadata": {},
     "output_type": "execute_result"
    }
   ],
   "source": [
    "import jieba.posseg as pseg\n",
    "pseg.lcut(\"我爱北京天安门\") \n",
    "# 结果返回一个装有pair元组的列表, 每个pair元组中分别是词汇及其对应的词性, 具体词性含义请参照[附录: jieba词性对照表]()"
   ]
  },
  {
   "cell_type": "markdown",
   "metadata": {},
   "source": [
    "## 2. 文本张量表示\n",
    "### 2.1 one-hot"
   ]
  },
  {
   "cell_type": "code",
   "execution_count": 7,
   "metadata": {},
   "outputs": [
    {
     "name": "stdout",
     "output_type": "stream",
     "text": [
      "周杰伦 [1, 0, 0, 0, 0, 0]\n",
      "陈奕迅 [0, 1, 0, 0, 0, 0]\n",
      "吴亦凡 [0, 0, 1, 0, 0, 0]\n",
      "李宗盛 [0, 0, 0, 1, 0, 0]\n",
      "王力宏 [0, 0, 0, 0, 1, 0]\n",
      "鹿晗 [0, 0, 0, 0, 0, 1]\n"
     ]
    },
    {
     "data": {
      "text/plain": [
       "['./Tokenizer']"
      ]
     },
     "execution_count": 7,
     "metadata": {},
     "output_type": "execute_result"
    }
   ],
   "source": [
    "# one-hot\n",
    "import joblib\n",
    "from keras.preprocessing.text import Tokenizer\n",
    "vocab = {\"周杰伦\", \"陈奕迅\", \"王力宏\", \"李宗盛\", \"吴亦凡\", \"鹿晗\"}\n",
    "t = Tokenizer(num_words=None,char_level=False)\n",
    "t.fit_on_texts(vocab)\n",
    "\n",
    "for token in vocab:\n",
    "    zero_l = [0]*len(vocab)\n",
    "    token_index = t.texts_to_sequences([token])[0][0] - 1\n",
    "    zero_l[token_index] = 1\n",
    "    print(token,zero_l)\n",
    "\n",
    "tokenizer_path = \"./Tokenizer\"\n",
    "joblib.dump(t, tokenizer_path)"
   ]
  },
  {
   "cell_type": "code",
   "execution_count": 8,
   "metadata": {},
   "outputs": [
    {
     "name": "stdout",
     "output_type": "stream",
     "text": [
      "李宗盛 的one-hot编码为: [0, 0, 0, 1, 0, 0]\n"
     ]
    }
   ],
   "source": [
    "# 导入用于对象保存与加载的joblib\n",
    "# 加载之前保存的Tokenizer, 实例化一个t对象\n",
    "t = joblib.load(tokenizer_path)\n",
    "\n",
    "# 编码token为\"李宗盛\"\n",
    "token = \"李宗盛\"\n",
    "# 使用t获得token_index\n",
    "token_index = t.texts_to_sequences([token])[0][0] - 1\n",
    "# 初始化一个zero_list\n",
    "zero_list = [0]*len(vocab)\n",
    "# 令zero_List的对应索引为1\n",
    "zero_list[token_index] = 1\n",
    "print(token, \"的one-hot编码为:\", zero_list) "
   ]
  },
  {
   "cell_type": "markdown",
   "metadata": {},
   "source": [
    "### 2.2 word2vec\n",
    "- CBOW : 连续词袋模型 上下文 -> 当前词\n",
    "    <img src='cbow.jpg'>\n",
    "- skipgram: 当前词 -> 上下文\n",
    "    <img src='skipgram.jpg'>"
   ]
  },
  {
   "cell_type": "code",
   "execution_count": 1,
   "metadata": {},
   "outputs": [
    {
     "data": {
      "text/plain": [
       "'/home/yangcaihua/task/pytorch'"
      ]
     },
     "execution_count": 1,
     "metadata": {},
     "output_type": "execute_result"
    }
   ],
   "source": [
    "import os\n",
    "os.getcwd()"
   ]
  },
  {
   "cell_type": "code",
   "execution_count": 7,
   "metadata": {},
   "outputs": [
    {
     "name": "stderr",
     "output_type": "stream",
     "text": [
      "Read 124M words\n",
      "Number of words:  218316\n",
      "Number of labels: 0\n",
      "Progress: 100.0% words/sec/thread:   29414 lr:  0.000000 avg.loss:  1.731602 ETA:   0h 0m 0s\n"
     ]
    }
   ],
   "source": [
    "import fasttext\n",
    "# fastText是一个由Facebook的AI Research实验室创建的用于学习单词嵌入和文本分类的库。\n",
    "model = fasttext.train_unsupervised('data/fil9')"
   ]
  },
  {
   "cell_type": "code",
   "execution_count": 2,
   "metadata": {},
   "outputs": [
    {
     "data": {
      "text/plain": [
       "array([ 2.69205589e-02,  2.30061367e-01, -3.65144938e-01, -2.39198774e-01,\n",
       "       -2.10951000e-01, -3.49523015e-02, -2.98360080e-01,  1.26202092e-01,\n",
       "       -1.91931918e-01, -1.73507586e-01,  3.21475826e-02,  3.98904681e-01,\n",
       "       -3.45306575e-01, -2.79143542e-01, -2.92520642e-01, -1.00824766e-01,\n",
       "       -2.14432538e-01, -8.48380402e-02,  1.00462444e-01, -2.47067660e-01,\n",
       "        2.91214347e-01, -2.00514883e-01,  1.30885229e-01,  2.30348542e-01,\n",
       "       -1.78399593e-01, -1.67363569e-01, -2.04133019e-01,  5.42510264e-02,\n",
       "       -7.66217858e-02,  2.31016010e-01, -9.47944149e-02,  1.36297151e-01,\n",
       "       -1.36969671e-01,  2.28665426e-01, -1.21504930e-03,  1.35399342e-01,\n",
       "        1.72503993e-01, -1.25803933e-01, -1.47565395e-01,  4.75212522e-02,\n",
       "       -5.23463339e-02,  1.28065884e-01,  2.61622071e-01, -3.92485350e-01,\n",
       "        1.45487795e-02, -3.62185657e-01,  1.34703085e-01, -6.53091446e-02,\n",
       "        8.80513061e-03, -1.09075107e-01,  5.23483865e-02,  3.67859788e-02,\n",
       "        1.78136766e-01, -6.27204403e-02, -2.94558346e-01,  2.89315999e-01,\n",
       "        1.95336774e-01, -6.05255701e-02,  1.02433160e-01,  3.03931683e-01,\n",
       "       -1.36998951e-01,  3.66137117e-01, -1.88767612e-01,  3.52496617e-02,\n",
       "        4.18326184e-02,  3.13830793e-01,  3.66006158e-02,  2.54913382e-02,\n",
       "        2.43836761e-01,  3.30417037e-01, -1.10287376e-01,  2.51363013e-02,\n",
       "        2.61587560e-01,  3.32767633e-03, -3.03558737e-01, -7.62685239e-02,\n",
       "        2.80986782e-02, -1.98439583e-01,  7.65359923e-02,  2.08487079e-01,\n",
       "       -4.60654348e-02,  3.58113885e-01,  9.68619063e-02, -2.15163365e-01,\n",
       "        2.67293125e-01, -1.86376736e-01,  1.63368434e-01, -4.05132771e-02,\n",
       "       -1.61572881e-02, -2.36900330e-01,  3.07592843e-02,  1.06107280e-01,\n",
       "       -9.01175886e-02,  1.70229166e-03,  6.87985346e-02, -1.51719779e-01,\n",
       "        6.46215901e-02,  2.24417890e-04,  1.47713393e-01, -1.92172185e-01],\n",
       "      dtype=float32)"
      ]
     },
     "execution_count": 2,
     "metadata": {},
     "output_type": "execute_result"
    }
   ],
   "source": [
    "model.get_word_vector('the')"
   ]
  },
  {
   "cell_type": "code",
   "execution_count": null,
   "metadata": {},
   "outputs": [],
   "source": [
    "# 超参数设定\n",
    "model = fasttext.train_unsupervised('data/fil9','cbow',dim=300,epoch=1,lr=0.1)"
   ]
  },
  {
   "cell_type": "code",
   "execution_count": 3,
   "metadata": {},
   "outputs": [
    {
     "data": {
      "text/plain": [
       "[(0.8628491163253784, 'sports'),\n",
       " (0.8562147617340088, 'sporting'),\n",
       " (0.8101190328598022, 'competitions'),\n",
       " (0.7868378162384033, 'competiting'),\n",
       " (0.7803624868392944, 'competitve'),\n",
       " (0.7715709209442139, 'showjumping'),\n",
       " (0.7693371176719666, 'racing'),\n",
       " (0.7683256268501282, 'bobsledding'),\n",
       " (0.7667173743247986, 'competetive'),\n",
       " (0.7624735832214355, 'motorsports')]"
      ]
     },
     "execution_count": 3,
     "metadata": {},
     "output_type": "execute_result"
    }
   ],
   "source": [
    "model.get_nearest_neighbors('sport')"
   ]
  },
  {
   "cell_type": "code",
   "execution_count": 4,
   "metadata": {},
   "outputs": [],
   "source": [
    "model.save_model('data/fil9.bin')"
   ]
  },
  {
   "cell_type": "code",
   "execution_count": 6,
   "metadata": {},
   "outputs": [
    {
     "name": "stderr",
     "output_type": "stream",
     "text": [
      "Warning : `load_model` does not return WordVectorModel or SupervisedModel any more, but a `FastText` object which is very similar.\n"
     ]
    },
    {
     "data": {
      "text/plain": [
       "[(0.8778159022331238, 'of'),\n",
       " (0.8254445195198059, 'in'),\n",
       " (0.8137810826301575, 'and'),\n",
       " (0.7640159130096436, 'is'),\n",
       " (0.7141677141189575, 'a'),\n",
       " (0.6936720013618469, 'for'),\n",
       " (0.6755514144897461, 'with'),\n",
       " (0.6650180816650391, 'one'),\n",
       " (0.66267329454422, 'to'),\n",
       " (0.6598842740058899, 'which')]"
      ]
     },
     "execution_count": 6,
     "metadata": {},
     "output_type": "execute_result"
    }
   ],
   "source": [
    "model1 = fasttext.load_model('data/fil9.bin')\n",
    "model1.get_nearest_neighbors('the')"
   ]
  },
  {
   "cell_type": "markdown",
   "metadata": {},
   "source": [
    "### 2.3 word embedding"
   ]
  },
  {
   "cell_type": "code",
   "execution_count": 12,
   "metadata": {},
   "outputs": [
    {
     "ename": "AttributeError",
     "evalue": "module 'tensorflow._api.v2.io.gfile' has no attribute 'get_filesystem'",
     "output_type": "error",
     "traceback": [
      "\u001b[0;31m---------------------------------------------------------------------------\u001b[0m",
      "\u001b[0;31mAttributeError\u001b[0m                            Traceback (most recent call last)",
      "\u001b[0;32m/tmp/ipykernel_78120/4037348515.py\u001b[0m in \u001b[0;36m<module>\u001b[0;34m\u001b[0m\n\u001b[1;32m      8\u001b[0m \u001b[0me\u001b[0m \u001b[0;34m=\u001b[0m \u001b[0mtorch\u001b[0m\u001b[0;34m.\u001b[0m\u001b[0mrandn\u001b[0m\u001b[0;34m(\u001b[0m\u001b[0;36m100\u001b[0m\u001b[0;34m,\u001b[0m\u001b[0;36m50\u001b[0m\u001b[0;34m)\u001b[0m\u001b[0;34m\u001b[0m\u001b[0;34m\u001b[0m\u001b[0m\n\u001b[1;32m      9\u001b[0m \u001b[0mmeta\u001b[0m \u001b[0;34m=\u001b[0m \u001b[0mlist\u001b[0m\u001b[0;34m(\u001b[0m\u001b[0mmap\u001b[0m\u001b[0;34m(\u001b[0m\u001b[0;32mlambda\u001b[0m \u001b[0mx\u001b[0m\u001b[0;34m:\u001b[0m\u001b[0mx\u001b[0m\u001b[0;34m.\u001b[0m\u001b[0mstrip\u001b[0m\u001b[0;34m(\u001b[0m\u001b[0;34m)\u001b[0m\u001b[0;34m,\u001b[0m\u001b[0mfileinput\u001b[0m\u001b[0;34m.\u001b[0m\u001b[0mFileInput\u001b[0m\u001b[0;34m(\u001b[0m\u001b[0;34m'data/vocab100.csv'\u001b[0m\u001b[0;34m)\u001b[0m\u001b[0;34m)\u001b[0m\u001b[0;34m)\u001b[0m\u001b[0;34m\u001b[0m\u001b[0;34m\u001b[0m\u001b[0m\n\u001b[0;32m---> 10\u001b[0;31m \u001b[0mwriter\u001b[0m\u001b[0;34m.\u001b[0m\u001b[0madd_embedding\u001b[0m\u001b[0;34m(\u001b[0m\u001b[0me\u001b[0m\u001b[0;34m,\u001b[0m\u001b[0mmeta\u001b[0m\u001b[0;34m)\u001b[0m\u001b[0;34m\u001b[0m\u001b[0;34m\u001b[0m\u001b[0m\n\u001b[0m\u001b[1;32m     11\u001b[0m \u001b[0;31m# google能展示\u001b[0m\u001b[0;34m\u001b[0m\u001b[0;34m\u001b[0m\u001b[0;34m\u001b[0m\u001b[0m\n\u001b[1;32m     12\u001b[0m \u001b[0mwriter\u001b[0m\u001b[0;34m.\u001b[0m\u001b[0mclose\u001b[0m\u001b[0;34m(\u001b[0m\u001b[0;34m)\u001b[0m\u001b[0;34m\u001b[0m\u001b[0;34m\u001b[0m\u001b[0m\n",
      "\u001b[0;32m~/anaconda3/envs/py38/lib/python3.8/site-packages/torch/utils/tensorboard/writer.py\u001b[0m in \u001b[0;36madd_embedding\u001b[0;34m(self, mat, metadata, label_img, global_step, tag, metadata_header)\u001b[0m\n\u001b[1;32m    808\u001b[0m         \u001b[0msave_path\u001b[0m \u001b[0;34m=\u001b[0m \u001b[0mos\u001b[0m\u001b[0;34m.\u001b[0m\u001b[0mpath\u001b[0m\u001b[0;34m.\u001b[0m\u001b[0mjoin\u001b[0m\u001b[0;34m(\u001b[0m\u001b[0mself\u001b[0m\u001b[0;34m.\u001b[0m\u001b[0m_get_file_writer\u001b[0m\u001b[0;34m(\u001b[0m\u001b[0;34m)\u001b[0m\u001b[0;34m.\u001b[0m\u001b[0mget_logdir\u001b[0m\u001b[0;34m(\u001b[0m\u001b[0;34m)\u001b[0m\u001b[0;34m,\u001b[0m \u001b[0msubdir\u001b[0m\u001b[0;34m)\u001b[0m\u001b[0;34m\u001b[0m\u001b[0;34m\u001b[0m\u001b[0m\n\u001b[1;32m    809\u001b[0m \u001b[0;34m\u001b[0m\u001b[0m\n\u001b[0;32m--> 810\u001b[0;31m         \u001b[0mfs\u001b[0m \u001b[0;34m=\u001b[0m \u001b[0mtf\u001b[0m\u001b[0;34m.\u001b[0m\u001b[0mio\u001b[0m\u001b[0;34m.\u001b[0m\u001b[0mgfile\u001b[0m\u001b[0;34m.\u001b[0m\u001b[0mget_filesystem\u001b[0m\u001b[0;34m(\u001b[0m\u001b[0msave_path\u001b[0m\u001b[0;34m)\u001b[0m\u001b[0;34m\u001b[0m\u001b[0;34m\u001b[0m\u001b[0m\n\u001b[0m\u001b[1;32m    811\u001b[0m         \u001b[0;32mif\u001b[0m \u001b[0mfs\u001b[0m\u001b[0;34m.\u001b[0m\u001b[0mexists\u001b[0m\u001b[0;34m(\u001b[0m\u001b[0msave_path\u001b[0m\u001b[0;34m)\u001b[0m\u001b[0;34m:\u001b[0m\u001b[0;34m\u001b[0m\u001b[0;34m\u001b[0m\u001b[0m\n\u001b[1;32m    812\u001b[0m             \u001b[0;32mif\u001b[0m \u001b[0mfs\u001b[0m\u001b[0;34m.\u001b[0m\u001b[0misdir\u001b[0m\u001b[0;34m(\u001b[0m\u001b[0msave_path\u001b[0m\u001b[0;34m)\u001b[0m\u001b[0;34m:\u001b[0m\u001b[0;34m\u001b[0m\u001b[0;34m\u001b[0m\u001b[0m\n",
      "\u001b[0;31mAttributeError\u001b[0m: module 'tensorflow._api.v2.io.gfile' has no attribute 'get_filesystem'"
     ]
    }
   ],
   "source": [
    "# word embedding 通过一定的方式将词汇映射到指定维度(一般是更高维度)的空间.\n",
    "# https://zhuanlan.zhihu.com/p/33786815\n",
    "import torch\n",
    "import json\n",
    "import fileinput\n",
    "from torch.utils.tensorboard import SummaryWriter\n",
    "writer = SummaryWriter()\n",
    "e = torch.randn(100,50)\n",
    "meta = list(map(lambda x:x.strip(),fileinput.FileInput('data/vocab100.csv')))\n",
    "writer.add_embedding(e,meta)\n",
    "# google能展示\n",
    "writer.close()"
   ]
  },
  {
   "cell_type": "markdown",
   "metadata": {},
   "source": [
    "<img src='word vector.jpg'>"
   ]
  },
  {
   "cell_type": "code",
   "execution_count": 10,
   "metadata": {},
   "outputs": [
    {
     "name": "stdout",
     "output_type": "stream",
     "text": [
      "True\n",
      "10.2\n",
      "7605\n",
      "False\n",
      "2.8.0\n",
      "False\n"
     ]
    },
    {
     "name": "stderr",
     "output_type": "stream",
     "text": [
      "2022-03-17 23:21:30.321372: W tensorflow/core/common_runtime/gpu/gpu_device.cc:1850] Cannot dlopen some GPU libraries. Please make sure the missing libraries mentioned above are installed properly if you would like to use GPU. Follow the guide at https://www.tensorflow.org/install/gpu for how to download and setup the required libraries for your platform.\n",
      "Skipping registering GPU devices...\n",
      "2022-03-17 23:21:30.323400: W tensorflow/core/common_runtime/gpu/gpu_device.cc:1850] Cannot dlopen some GPU libraries. Please make sure the missing libraries mentioned above are installed properly if you would like to use GPU. Follow the guide at https://www.tensorflow.org/install/gpu for how to download and setup the required libraries for your platform.\n",
      "Skipping registering GPU devices...\n"
     ]
    }
   ],
   "source": [
    "print(torch.cuda.is_available())\n",
    "print(torch.version.cuda)\n",
    "print(torch.backends.cudnn.version())\n",
    "import tensorflow as tf\n",
    "print(tf.test.is_gpu_available())\n",
    "print(tf.__version__)\n",
    "print(tf.test.is_gpu_available(cuda_only=False,min_cuda_compute_capability=None))"
   ]
  },
  {
   "cell_type": "markdown",
   "metadata": {},
   "source": [
    "## 3.文本语料的数据分析：\n",
    "### 3.1标签数量分布\n"
   ]
  },
  {
   "cell_type": "code",
   "execution_count": 10,
   "metadata": {},
   "outputs": [
    {
     "name": "stderr",
     "output_type": "stream",
     "text": [
      "/tmp/ipykernel_16569/1016553222.py:10: ParserWarning: Falling back to the 'python' engine because the 'c' engine does not support regex separators (separators > 1 char and different from '\\s+' are interpreted as regex); you can avoid this warning by specifying engine='python'.\n",
      "  train_data = pd.read_csv(\"./data/hotel_train.tsv\", sep=\"    \")\n",
      "/tmp/ipykernel_16569/1016553222.py:11: ParserWarning: Falling back to the 'python' engine because the 'c' engine does not support regex separators (separators > 1 char and different from '\\s+' are interpreted as regex); you can avoid this warning by specifying engine='python'.\n",
      "  valid_data = pd.read_csv(\"./data/hotel_test.tsv\", sep=\"    \")\n",
      "/home/yangcaihua/anaconda3/envs/py38/lib/python3.8/site-packages/seaborn/_decorators.py:36: FutureWarning: Pass the following variable as a keyword arg: x. From version 0.12, the only valid positional argument will be `data`, and passing other arguments without an explicit keyword will result in an error or misinterpretation.\n",
      "  warnings.warn(\n"
     ]
    },
    {
     "data": {
      "image/png": "[encoded data removed]",
      "text/plain": [
       "<Figure size 432x288 with 1 Axes>"
      ]
     },
     "metadata": {},
     "output_type": "display_data"
    },
    {
     "name": "stderr",
     "output_type": "stream",
     "text": [
      "/home/yangcaihua/anaconda3/envs/py38/lib/python3.8/site-packages/seaborn/_decorators.py:36: FutureWarning: Pass the following variable as a keyword arg: x. From version 0.12, the only valid positional argument will be `data`, and passing other arguments without an explicit keyword will result in an error or misinterpretation.\n",
      "  warnings.warn(\n"
     ]
    },
    {
     "data": {
      "image/png": "[encoded data removed]",
      "text/plain": [
       "<Figure size 432x288 with 1 Axes>"
      ]
     },
     "metadata": {},
     "output_type": "display_data"
    }
   ],
   "source": [
    "# 文本数据分析：检查语料存在的问题，以便后续超参数的选择\n",
    "# 标签分布 句子长度分布 词频统计与关键词词云\n",
    "import seaborn as sns\n",
    "import pandas as pd\n",
    "import matplotlib.pyplot as plt\n",
    "# 设置显示风格\n",
    "plt.style.use('fivethirtyeight') \n",
    "\n",
    "# 分别读取训练tsv和验证tsv\n",
    "train_data = pd.read_csv(\"./data/hotel_train.tsv\", sep=\"    \")\n",
    "valid_data = pd.read_csv(\"./data/hotel_test.tsv\", sep=\"    \")\n",
    "\n",
    "\n",
    "# 获得训练数据标签数量分布\n",
    "sns.countplot(\"label\", data=train_data)\n",
    "plt.title(\"train_data\")\n",
    "plt.show()\n",
    "\n",
    "\n",
    "# 获取验证数据标签数量分布\n",
    "sns.countplot(\"label\", data=valid_data)\n",
    "plt.title(\"valid_data\")\n",
    "plt.show()"
   ]
  },
  {
   "cell_type": "markdown",
   "metadata": {},
   "source": [
    "### 3.2 句子长度分布\n"
   ]
  },
  {
   "cell_type": "code",
   "execution_count": 11,
   "metadata": {},
   "outputs": [
    {
     "name": "stderr",
     "output_type": "stream",
     "text": [
      "/home/yangcaihua/anaconda3/envs/py38/lib/python3.8/site-packages/seaborn/_decorators.py:36: FutureWarning: Pass the following variable as a keyword arg: x. From version 0.12, the only valid positional argument will be `data`, and passing other arguments without an explicit keyword will result in an error or misinterpretation.\n",
      "  warnings.warn(\n"
     ]
    },
    {
     "data": {
      "image/png": "[encoded data removed]",
      "text/plain": [
       "<Figure size 432x288 with 1 Axes>"
      ]
     },
     "metadata": {},
     "output_type": "display_data"
    },
    {
     "name": "stderr",
     "output_type": "stream",
     "text": [
      "/home/yangcaihua/anaconda3/envs/py38/lib/python3.8/site-packages/seaborn/distributions.py:2619: FutureWarning: `distplot` is a deprecated function and will be removed in a future version. Please adapt your code to use either `displot` (a figure-level function with similar flexibility) or `histplot` (an axes-level function for histograms).\n",
      "  warnings.warn(msg, FutureWarning)\n"
     ]
    },
    {
     "data": {
      "image/png": "[encoded data removed]",
      "text/plain": [
       "<Figure size 432x288 with 1 Axes>"
      ]
     },
     "metadata": {},
     "output_type": "display_data"
    },
    {
     "name": "stderr",
     "output_type": "stream",
     "text": [
      "/home/yangcaihua/anaconda3/envs/py38/lib/python3.8/site-packages/seaborn/_decorators.py:36: FutureWarning: Pass the following variable as a keyword arg: x. From version 0.12, the only valid positional argument will be `data`, and passing other arguments without an explicit keyword will result in an error or misinterpretation.\n",
      "  warnings.warn(\n"
     ]
    },
    {
     "data": {
      "image/png": "[encoded data removed]",
      "text/plain": [
       "<Figure size 432x288 with 1 Axes>"
      ]
     },
     "metadata": {},
     "output_type": "display_data"
    },
    {
     "name": "stderr",
     "output_type": "stream",
     "text": [
      "/home/yangcaihua/anaconda3/envs/py38/lib/python3.8/site-packages/seaborn/distributions.py:2619: FutureWarning: `distplot` is a deprecated function and will be removed in a future version. Please adapt your code to use either `displot` (a figure-level function with similar flexibility) or `histplot` (an axes-level function for histograms).\n",
      "  warnings.warn(msg, FutureWarning)\n"
     ]
    },
    {
     "data": {
      "image/png": "[encoded data removed]",
      "text/plain": [
       "<Figure size 432x288 with 1 Axes>"
      ]
     },
     "metadata": {},
     "output_type": "display_data"
    }
   ],
   "source": [
    "# 柱状图\n",
    "# 在训练数据中添加新的句子长度列, 每个元素的值都是对应的句子列的长度\n",
    "train_data[\"sentence_length\"] = list(map(lambda x: len(x), train_data[\"sentence\"]))\n",
    "\n",
    "# 绘制句子长度列的数量分布图\n",
    "sns.countplot(\"sentence_length\", data=train_data)\n",
    "# 主要关注count长度分布的纵坐标, 不需要绘制横坐标, 横坐标范围通过dist图进行查看\n",
    "plt.xticks([])\n",
    "\n",
    "plt.show()\n",
    "\n",
    "# 绘制dist长度分布图\n",
    "sns.distplot(train_data[\"sentence_length\"])\n",
    "\n",
    "# 主要关注dist长度分布横坐标, 不需要绘制纵坐标\n",
    "plt.yticks([])\n",
    "plt.show()\n",
    "\n",
    "\n",
    "# 在验证数据中添加新的句子长度列, 每个元素的值都是对应的句子列的长度\n",
    "valid_data[\"sentence_length\"] = list(map(lambda x: len(x), valid_data[\"sentence\"]))\n",
    "\n",
    "# 绘制句子长度列的数量分布图\n",
    "sns.countplot(\"sentence_length\", data=valid_data)\n",
    "\n",
    "# 主要关注count长度分布的纵坐标, 不需要绘制横坐标, 横坐标范围通过dist图进行查看\n",
    "plt.xticks([])\n",
    "plt.show()\n",
    "\n",
    "# 绘制dist长度分布图\n",
    "sns.distplot(valid_data[\"sentence_length\"])\n",
    "\n",
    "# 主要关注dist长度分布横坐标, 不需要绘制纵坐标\n",
    "plt.yticks([])\n",
    "plt.show()"
   ]
  },
  {
   "cell_type": "code",
   "execution_count": 12,
   "metadata": {},
   "outputs": [
    {
     "data": {
      "image/png": "[encoded data removed]",
      "text/plain": [
       "<Figure size 432x288 with 1 Axes>"
      ]
     },
     "metadata": {},
     "output_type": "display_data"
    },
    {
     "data": {
      "image/png": "[encoded data removed]",
      "text/plain": [
       "<Figure size 432x288 with 1 Axes>"
      ]
     },
     "metadata": {},
     "output_type": "display_data"
    }
   ],
   "source": [
    "# 散点分布 有助于找到异常点\n",
    "\n",
    "# 绘制训练集长度分布的散点图\n",
    "sns.stripplot(y='sentence_length',x='label',data=train_data)\n",
    "plt.show()\n",
    "\n",
    "# 绘制验证集长度分布的散点图\n",
    "sns.stripplot(y='sentence_length',x='label',data=valid_data)\n",
    "plt.show()"
   ]
  },
  {
   "cell_type": "markdown",
   "metadata": {},
   "source": []
  },
  {
   "cell_type": "code",
   "execution_count": 46,
   "metadata": {},
   "outputs": [
    {
     "name": "stdout",
     "output_type": "stream",
     "text": [
      "训练集共包含不同词汇总数为： 190\n",
      "训练集共包含不同词汇总数为： 172\n"
     ]
    }
   ],
   "source": [
    "# 导入jieba用于分词\n",
    "# 导入chain方法用于扁平化列表\n",
    "import jieba\n",
    "from itertools import chain\n",
    "\n",
    "# 进行训练集的句子进行分词, 并统计出不同词汇的总数\n",
    "# * 析取\n",
    "train_vocab = set(chain(*map(lambda x: jieba.lcut(x), train_data[\"sentence\"])))\n",
    "print(\"训练集共包含不同词汇总数为：\", len(train_vocab))\n",
    "\n",
    "# 进行验证集的句子进行分词, 并统计出不同词汇的总数\n",
    "valid_vocab = set(chain(*map(lambda x: jieba.lcut(x), valid_data[\"sentence\"])))\n",
    "print(\"训练集共包含不同词汇总数为：\", len(valid_vocab))"
   ]
  },
  {
   "cell_type": "code",
   "execution_count": 45,
   "metadata": {},
   "outputs": [],
   "source": [
    "# list(chain(list('wosh')))\n",
    "# set(chain(*map(lambda x: jieba.lcut(x), valid_data[\"sentence\"])))"
   ]
  },
  {
   "cell_type": "markdown",
   "metadata": {},
   "source": [
    "### 3.3 词频统计与关键词词云"
   ]
  },
  {
   "cell_type": "code",
   "execution_count": 50,
   "metadata": {},
   "outputs": [
    {
     "data": {
      "image/png": "[encoded data removed]",
      "text/plain": [
       "<Figure size 432x288 with 1 Axes>"
      ]
     },
     "metadata": {},
     "output_type": "display_data"
    },
    {
     "data": {
      "image/png": "[encoded data removed]",
      "text/plain": [
       "<Figure size 432x288 with 1 Axes>"
      ]
     },
     "metadata": {},
     "output_type": "display_data"
    }
   ],
   "source": [
    "# 高频形容词词云 识别错误，便于人工审查\n",
    "# 使用jieba中的词性标注功能\n",
    "import jieba.posseg as pseg\n",
    "\n",
    "def get_a_list(text):\n",
    "    \"\"\"用于获取形容词列表\"\"\"\n",
    "    # 使用jieba的词性标注方法切分文本,获得具有词性属性flag和词汇属性word的对象, \n",
    "    # 从而判断flag是否为形容词,来返回对应的词汇\n",
    "    r = []\n",
    "    for g in pseg.lcut(text):\n",
    "        if g.flag == \"a\":\n",
    "            r.append(g.word)\n",
    "    return r\n",
    "\n",
    "# 导入绘制词云的工具包\n",
    "from wordcloud import WordCloud\n",
    "\n",
    "def get_word_cloud(keywords_list):\n",
    "    # 实例化绘制词云的类, 其中参数font_path是字体路径, 为了能够显示中文, \n",
    "    # max_words指词云图像最多显示多少个词, background_color为背景颜色 \n",
    "    wordcloud = WordCloud(font_path=\"./data/SimHei.ttf\", max_words=100, background_color=\"white\")\n",
    "    # 将传入的列表转化成词云生成器需要的字符串形式\n",
    "    keywords_string = \" \".join(keywords_list)\n",
    "    # 生成词云\n",
    "    wordcloud.generate(keywords_string)\n",
    "\n",
    "    # 绘制图像并显示\n",
    "    plt.figure()\n",
    "    plt.imshow(wordcloud, interpolation=\"bilinear\")\n",
    "    plt.axis(\"off\")\n",
    "    plt.show()\n",
    "\n",
    "# 获得训练集上正样本\n",
    "p_train_data = train_data[train_data[\"label\"]==1][\"sentence\"]\n",
    "\n",
    "# 对正样本的每个句子的形容词\n",
    "train_p_a_vocab = chain(*map(lambda x: get_a_list(x), p_train_data))\n",
    "#print(train_p_n_vocab)\n",
    "\n",
    "# 获得训练集上负样本\n",
    "n_train_data = train_data[train_data[\"label\"]==0][\"sentence\"]\n",
    "\n",
    "# 获取负样本的每个句子的形容词\n",
    "train_n_a_vocab = chain(*map(lambda x: get_a_list(x), n_train_data))\n",
    "\n",
    "# 调用绘制词云函数\n",
    "get_word_cloud(train_p_a_vocab)\n",
    "get_word_cloud(train_n_a_vocab)"
   ]
  },
  {
   "cell_type": "markdown",
   "metadata": {},
   "source": [
    "## 4. 文本特征处理：\n",
    "### 4.1 添加n-gram特征\n"
   ]
  },
  {
   "cell_type": "code",
   "execution_count": 57,
   "metadata": {},
   "outputs": [],
   "source": [
    "# 文本特征处理：n-gram 和 长度规范\n",
    "# 一般n-gram中的n取2或者3, 这里取2为例\n",
    "ngram_range = 2\n",
    "\n",
    "def create_ngram_set(input_list):\n",
    "    \"\"\"\n",
    "    description: 从数值列表中提取所有的n-gram特征\n",
    "    :param input_list: 输入的数值列表, 可以看作是词汇映射后的列表, \n",
    "                       里面每个数字的取值范围为[1, 25000]\n",
    "    :return: n-gram特征组成的集合\n",
    "\n",
    "    eg:\n",
    "    >>> create_ngram_set([1, 4, 9, 4, 1, 4])\n",
    "    {(4, 9), (4, 1), (1, 4), (9, 4)}\n",
    "    \"\"\" \n",
    "    # return set(zip(*[input_list[i:] for i in range(ngram_range)]))\n",
    "    return set(zip(*[input_list[i:] for i in range(ngram_range)]))"
   ]
  },
  {
   "cell_type": "code",
   "execution_count": 56,
   "metadata": {},
   "outputs": [
    {
     "data": {
      "text/plain": [
       "[(0, 4)]"
      ]
     },
     "execution_count": 56,
     "metadata": {},
     "output_type": "execute_result"
    }
   ],
   "source": [
    "list(create_ngram_set([1, 4, 9, 4, 1, 4]))\n",
    "list(zip([0,1,2,3],[4]))"
   ]
  },
  {
   "cell_type": "code",
   "execution_count": 58,
   "metadata": {},
   "outputs": [
    {
     "name": "stdout",
     "output_type": "stream",
     "text": [
      "{(2, 1), (1, 5), (5, 3), (3, 2), (1, 3)}\n"
     ]
    }
   ],
   "source": [
    "input_list = [1, 3, 2, 1, 5, 3]\n",
    "res = create_ngram_set(input_list)\n",
    "print(res)"
   ]
  },
  {
   "cell_type": "markdown",
   "metadata": {},
   "source": [
    "### 4.2 文本长度规范\n"
   ]
  },
  {
   "cell_type": "code",
   "execution_count": 62,
   "metadata": {},
   "outputs": [
    {
     "name": "stderr",
     "output_type": "stream",
     "text": [
      "2022-03-15 01:11:19.035786: W tensorflow/stream_executor/platform/default/dso_loader.cc:64] Could not load dynamic library 'libcudart.so.11.0'; dlerror: libcudart.so.11.0: cannot open shared object file: No such file or directory\n",
      "2022-03-15 01:11:19.035818: I tensorflow/stream_executor/cuda/cudart_stub.cc:29] Ignore above cudart dlerror if you do not have a GPU set up on your machine.\n"
     ]
    }
   ],
   "source": [
    "# 文本长度规范 padding\n",
    "from keras.preprocessing import sequence\n",
    "\n",
    "# cutlen根据数据分析中句子长度分布，覆盖90%左右语料的最短长度.\n",
    "# 这里假定cutlen为10\n",
    "cutlen = 10\n",
    "\n",
    "def padding(x_train):\n",
    "    \"\"\"\n",
    "    description: 对输入文本张量进行长度规范\n",
    "    :param x_train: 文本的张量表示, 形如: [[1, 32, 32, 61], [2, 54, 21, 7, 19]]\n",
    "    :return: 进行截断补齐后的文本张量表示 \n",
    "    \"\"\"\n",
    "    # 使用sequence.pad_sequences即可完成\n",
    "    return sequence.pad_sequences(x_train, cutlen)\n",
    "    \n"
   ]
  },
  {
   "cell_type": "code",
   "execution_count": 63,
   "metadata": {},
   "outputs": [
    {
     "name": "stdout",
     "output_type": "stream",
     "text": [
      "[[ 5 32 55 63  2 21 78 32 23  1]\n",
      " [ 0  0  0  0  0  2 32  1 23  1]]\n"
     ]
    }
   ],
   "source": [
    "# 假定x_train里面有两条文本, 一条长度大于10, 一天小于10\n",
    "x_train = [[1, 23, 5, 32, 55, 63, 2, 21, 78, 32, 23, 1],\n",
    "           [2, 32, 1, 23, 1]]\n",
    "\n",
    "res = padding(x_train)\n",
    "print(res)\n"
   ]
  },
  {
   "cell_type": "markdown",
   "metadata": {},
   "source": [
    "## 5. 数据增强方法：\n",
    "### 5.1 回译数据增强法"
   ]
  },
  {
   "cell_type": "code",
   "execution_count": 85,
   "metadata": {},
   "outputs": [
    {
     "name": "stdout",
     "output_type": "stream",
     "text": [
      "中间翻译结果:\n",
      "[ '호텔 시설은 매우 좋습니다.'이 가격은 매우 저렴합니다. \n",
      "回译得到的增强数据:\n",
      "['酒店设施非常好。'这个价格很便宜。 \n"
     ]
    }
   ],
   "source": [
    "# 文本增强 回译\n",
    "# 假设取两条已经存在的正样本和两条负样本\n",
    "# 将基于这四条样本产生新的同标签的四条样本\n",
    "p_sample1 = \"酒店设施非常不错\"\n",
    "p_sample2 = \"这家价格很便宜\"\n",
    "n_sample1 = \"拖鞋都发霉了, 太差了\"\n",
    "n_sample2 = \"电视不好用, 没有看到足球\"\n",
    "\n",
    "# 导入google翻译接口工具\n",
    "# from googletrans import Translator\n",
    "import os\n",
    "os.chdir('/home/yangcaihua')\n",
    "from download.google_trans_new.google_trans_new import google_translator  \n",
    "# 实例化翻译对象\n",
    "translator = google_translator()\n",
    "\n",
    "# 进行第一次批量翻译, 翻译目标是韩语\n",
    "translations = translator.translate([p_sample1, p_sample2, n_sample1, n_sample2], 'ko')\n",
    "# 获得翻译后的结果\n",
    "# ko_res = list(map(lambda x: x, translations))\n",
    "ko_res =  translations\n",
    "# 打印结果\n",
    "print(\"中间翻译结果:\")\n",
    "print(ko_res)\n",
    "\n",
    "\n",
    "# 最后在翻译回中文, 完成回译全部流程\n",
    "translations = translator.translate(ko_res, 'zh-cn')\n",
    "# cn_res = list(map(lambda x: x, translations))\n",
    "cn_res = translations\n",
    "print(\"回译得到的增强数据:\")\n",
    "print(cn_res)\n",
    "\n"
   ]
  },
  {
   "cell_type": "code",
   "execution_count": 77,
   "metadata": {},
   "outputs": [
    {
     "name": "stdout",
     "output_type": "stream",
     "text": [
      "中间翻译结果是 [ '번역 도구 테스트', 'Test Translation Tool'] \n"
     ]
    }
   ],
   "source": [
    "# 导入Google翻译接口工具 pip官方工具没有更新\n",
    "# from google_trans_new import google_translator\n",
    "import os\n",
    "os.chdir('/home/yangcaihua')\n",
    "from download.google_trans_new.google_trans_new import google_translator  \n",
    "# 实例化翻译对象\n",
    "translator = google_translator(timeout=10)\n",
    "sample1 = \"测试翻译工具\"\n",
    "# 进行第一次翻译，目标是韩文\n",
    "translations =  translator.translate([sample1,sample1], 'ko')\n",
    "# 获得翻译结果\n",
    "print(\"中间翻译结果是\",translations)"
   ]
  },
  {
   "cell_type": "code",
   "execution_count": 76,
   "metadata": {},
   "outputs": [
    {
     "name": "stdout",
     "output_type": "stream",
     "text": [
      "Hello Chinese \n"
     ]
    }
   ],
   "source": [
    "import os\n",
    "os.chdir('/home/yangcaihua')\n",
    "from download.google_trans_new.google_trans_new import google_translator  \n",
    "translator = google_translator()  \n",
    "translate_text = translator.translate('สวัสดีจีน',lang_tgt='en')  \n",
    "print(translate_text)\n"
   ]
  },
  {
   "cell_type": "markdown",
   "metadata": {},
   "source": [
    "http://121.199.45.168:8003/1/#14\n",
    "\n",
    "jieba词性对照表:\n",
    "\n",
    "- a 形容词  \n",
    "    - ad 副形词  \n",
    "    - ag 形容词性语素  \n",
    "    - an 名形词  \n",
    "- b 区别词  \n",
    "- c 连词  \n",
    "- d 副词  \n",
    "    - df   \n",
    "    - dg 副语素  \n",
    "- e 叹词  \n",
    "- f 方位词  \n",
    "- g 语素  \n",
    "- h 前接成分  \n",
    "- i 成语 \n",
    "- j 简称略称  \n",
    "- k 后接成分  \n",
    "- l 习用语  \n",
    "- m 数词  \n",
    "    - mg \n",
    "    - mq 数量词  \n",
    "- n 名词  \n",
    "    - ng 名词性语素  \n",
    "    - nr 人名  \n",
    "    - nrfg    \n",
    "    - nrt  \n",
    "    - ns 地名  \n",
    "    - nt 机构团体名  \n",
    "    - nz 其他专名  \n",
    "- o 拟声词  \n",
    "- p 介词  \n",
    "- q 量词  \n",
    "- r 代词  \n",
    "    - rg 代词性语素  \n",
    "    - rr 人称代词  \n",
    "    - rz 指示代词  \n",
    "- s 处所词  \n",
    "- t 时间词  \n",
    "    - tg 时语素  \n",
    "- u 助词  \n",
    "    - ud 结构助词 得\n",
    "    - ug 时态助词\n",
    "    - uj 结构助词 的\n",
    "    - ul 时态助词 了\n",
    "    - uv 结构助词 地\n",
    "    - uz 时态助词 着\n",
    "- v 动词  \n",
    "    - vd 副动词\n",
    "    - vg 动词性语素  \n",
    "    - vi 不及物动词  \n",
    "    - vn 名动词  \n",
    "    - vq \n",
    "- x 非语素词  \n",
    "- y 语气词  \n",
    "- z 状态词  \n",
    "    - zg "
   ]
  },
  {
   "cell_type": "markdown",
   "metadata": {},
   "source": [
    "hanlp词性对照表:\n",
    "\n",
    "【Proper Noun——NR，专有名词】\n",
    "\n",
    "【Temporal Noun——NT，时间名词】\n",
    "\n",
    "【Localizer——LC，定位词】如“内”，“左右”\n",
    "\n",
    "【Pronoun——PN，代词】\n",
    "\n",
    "【Determiner——DT，限定词】如“这”，“全体”\n",
    "\n",
    "【Cardinal Number——CD，量词】\n",
    "\n",
    "【Ordinal Number——OD，次序词】如“第三十一”\n",
    "\n",
    "【Measure word——M，单位词】如“杯”\n",
    "\n",
    "【Verb：VA，VC，VE，VV，动词】\n",
    "\n",
    "【Adverb：AD，副词】如“近”，“极大”\n",
    "\n",
    "【Preposition：P，介词】如“随着”\n",
    "\n",
    "【Subordinating conjunctions：CS，从属连词】\n",
    "\n",
    "【Conjuctions：CC，连词】如“和”\n",
    "\n",
    "【Particle：DEC,DEG,DEV,DER,AS,SP,ETC,MSP，小品词】如“的话”\n",
    "\n",
    "【Interjections：IJ，感叹词】如“哈”\n",
    "\n",
    "【onomatopoeia：ON，拟声词】如“哗啦啦”\n",
    "\n",
    "【Other Noun-modifier：JJ】如“发稿/JJ 时间/NN”\n",
    "\n",
    "【Punctuation：PU，标点符号】\n",
    "\n",
    "【Foreign word：FW，外国词语】如“OK"
   ]
  }
 ],
 "metadata": {
  "interpreter": {
   "hash": "98a99fa221f06f708072c4ee4ae796a4fc4d1412fb20fefb4ecbaa74a53967e3"
  },
  "kernelspec": {
   "display_name": "Python 3.8.10 ('py385': conda)",
   "language": "python",
   "name": "python3"
  },
  "language_info": {
   "codemirror_mode": {
    "name": "ipython",
    "version": 3
   },
   "file_extension": ".py",
   "mimetype": "text/x-python",
   "name": "python",
   "nbconvert_exporter": "python",
   "pygments_lexer": "ipython3",
   "version": "3.8.10"
  },
  "orig_nbformat": 4
 },
 "nbformat": 4,
 "nbformat_minor": 2
}
